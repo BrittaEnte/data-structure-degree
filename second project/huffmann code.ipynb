{
 "cells": [
  {
   "cell_type": "code",
   "execution_count": 122,
   "metadata": {},
   "outputs": [],
   "source": [
    "import heapq \n",
    "from collections import defaultdict\n",
    "from bitarray import bitarray\n",
    "import sys\n"
   ]
  },
  {
   "cell_type": "markdown",
   "metadata": {},
   "source": [
    "TASK FROM UDACITY\n",
    "Take a string and determine the relevant frequencies of the characters.\n",
    "Build and sort a list of tuples from lowest to highest frequencies.\n",
    "Build the Huffman Tree by assigning a binary code to each letter, using shorter codes for the more frequent letters. (This is the heart of the Huffman algorithm.)\n",
    "Trim the Huffman Tree (remove the frequencies from the previously built tree).\n",
    "Encode the text into its compressed form.\n",
    "Decode the text from its compressed form.\n",
    "                     "
   ]
  },
  {
   "cell_type": "code",
   "execution_count": 123,
   "metadata": {},
   "outputs": [
    {
     "data": {
      "text/plain": [
       "dict_items([('d', 1), ('a', 1), ('s', 1)])"
      ]
     },
     "execution_count": 123,
     "metadata": {},
     "output_type": "execute_result"
    }
   ],
   "source": [
    "# take a string and determine the relevant frequencies of the characters\n",
    "# we will use dic, then we can access the value and the letter\n",
    "\n",
    "def frequency_dict(text):\n",
    "\t\tfrequency = dict()\n",
    "\t\tfor character in text:\n",
    "\t\t\tif not character in frequency:\n",
    "\t\t\t\tfrequency[character] = 0\n",
    "\t\t\tfrequency[character] += 1\n",
    "\t\treturn frequency.items()\n",
    "    \n",
    "#test case\n",
    "text = \"das\"\n",
    "frequency_dict(text)\n",
    "\n"
   ]
  },
  {
   "cell_type": "markdown",
   "metadata": {},
   "source": []
  },
  {
   "cell_type": "code",
   "execution_count": 124,
   "metadata": {},
   "outputs": [],
   "source": [
    "#Build the Huffman Tree by assigning a binary code to each letter,\n",
    "#using shorter codes for the more frequent letters.\n",
    "#(This is the heart of the Huffman algorithm.)\n",
    "#https://towardsdatascience.com/data-structure-heap-23d4c78a6962\n",
    "#https://www.geeksforgeeks.org/heap-queue-or-heapq-in-python/\n",
    "#we use heap, as this is a priority queue\n",
    "\n",
    "def install_tree(freq):    \n",
    "    heap = []\n",
    "# heappop(heap) :- This function is used to remove and return the smallest element from heap. \n",
    "#The order is adjusted, so as heap structure is maintained.\n",
    "    for lf in freq: heapq.heappush(heap, [lf])\n",
    "    while (len(heap) > 1):\n",
    "        left = heapq.heappop(heap)\n",
    "        right = heapq.heappop(heap)\n",
    "        freq0, label0 = left[0]\n",
    "        freq1, label1 = right[0]\n",
    "        node = [(freq0 + freq1, label0 + label1), left, right]\n",
    "        heapq.heappush(heap, node) # using heappush() to push elements into heap \n",
    "    return heap.pop()\n",
    "\n"
   ]
  },
  {
   "cell_type": "code",
   "execution_count": 125,
   "metadata": {},
   "outputs": [],
   "source": [
    "#we make a map of the heap, to add 0 and 1 to our tree. as more often a letter is used, \n",
    "#as shorter the code, as more above the letter is in our tree. \n",
    "\n",
    "def issue_map(tree, map = dict(), code =''): # code later will be 0 or 1\n",
    "    if (len(tree) == 1):\n",
    "        label, freq = tree[0]\n",
    "        map[label] = code\n",
    "    else:\n",
    "        value, left, right = tree\n",
    "        makeMap(right, map, code + \"1\")\n",
    "        makeMap(left, map, code + \"0\")\n",
    "        \n",
    "    return map\n"
   ]
  },
  {
   "cell_type": "code",
   "execution_count": 126,
   "metadata": {},
   "outputs": [
    {
     "data": {
      "text/plain": [
       "('00000010000000010100000000000001011000000000000000100000000101000000000000100000100000001000001001000000000',\n",
       " [(' abdeilnst', 18),\n",
       "  [(' abdeilns', 17),\n",
       "   [(' abdeiln', 14),\n",
       "    [(' abdeil', 13),\n",
       "     [(' abdei', 12),\n",
       "      [(' abde', 11),\n",
       "       [(' abd', 9),\n",
       "        [(' ab', 7), [(' a', 6), [(' ', 4)], [('a', 2)]], [('b', 1)]],\n",
       "        [('d', 2)]],\n",
       "       [('e', 2)]],\n",
       "      [('i', 1)]],\n",
       "     [('l', 1)]],\n",
       "    [('n', 1)]],\n",
       "   [('s', 3)]],\n",
       "  [('t', 1)]])"
      ]
     },
     "execution_count": 126,
     "metadata": {},
     "output_type": "execute_result"
    }
   ],
   "source": [
    "# \n",
    "def encode(nachricht):\n",
    "    tree = makeTree(frequency_dict(nachricht))\n",
    "    map = makeMap(tree)\n",
    "    data = ''.join([ map[letter] for letter in nachricht ])\n",
    "    return data, tree\n",
    "\n",
    "encode(\"das ist das leben \")"
   ]
  },
  {
   "cell_type": "code",
   "execution_count": 129,
   "metadata": {},
   "outputs": [
    {
     "ename": "IndexError",
     "evalue": "tuple index out of range",
     "output_type": "error",
     "traceback": [
      "\u001b[1;31m---------------------------------------------------------------------------\u001b[0m",
      "\u001b[1;31mIndexError\u001b[0m                                Traceback (most recent call last)",
      "\u001b[1;32m<ipython-input-129-ba09c722561f>\u001b[0m in \u001b[0;36m<module>\u001b[1;34m()\u001b[0m\n\u001b[0;32m     15\u001b[0m \u001b[1;33m\u001b[0m\u001b[0m\n\u001b[0;32m     16\u001b[0m \u001b[0mtree\u001b[0m \u001b[1;33m=\u001b[0m  \u001b[1;33m[\u001b[0m\u001b[1;33m(\u001b[0m\u001b[1;34m'ad'\u001b[0m\u001b[1;33m,\u001b[0m \u001b[1;36m2\u001b[0m\u001b[1;33m)\u001b[0m\u001b[1;33m,\u001b[0m \u001b[1;33m[\u001b[0m\u001b[1;33m(\u001b[0m\u001b[1;34m'a'\u001b[0m\u001b[1;33m,\u001b[0m \u001b[1;36m1\u001b[0m\u001b[1;33m)\u001b[0m\u001b[1;33m]\u001b[0m\u001b[1;33m,\u001b[0m \u001b[1;33m[\u001b[0m\u001b[1;33m(\u001b[0m\u001b[1;34m'd'\u001b[0m\u001b[1;33m,\u001b[0m \u001b[1;36m1\u001b[0m\u001b[1;33m)\u001b[0m\u001b[1;33m]\u001b[0m\u001b[1;33m]\u001b[0m\u001b[1;33m,\u001b[0m \u001b[1;33m[\u001b[0m\u001b[1;33m(\u001b[0m\u001b[1;34m's'\u001b[0m\u001b[1;33m,\u001b[0m \u001b[1;36m1\u001b[0m\u001b[1;33m)\u001b[0m\u001b[1;33m]\u001b[0m\u001b[1;33m\u001b[0m\u001b[0m\n\u001b[1;32m---> 17\u001b[1;33m \u001b[0mdecode\u001b[0m\u001b[1;33m(\u001b[0m\u001b[1;34m'01001'\u001b[0m\u001b[1;33m,\u001b[0m\u001b[0mtree\u001b[0m\u001b[1;33m)\u001b[0m\u001b[1;33m\u001b[0m\u001b[0m\n\u001b[0m",
      "\u001b[1;32m<ipython-input-129-ba09c722561f>\u001b[0m in \u001b[0;36mdecode\u001b[1;34m(data, tree)\u001b[0m\n\u001b[0;32m      5\u001b[0m     \u001b[1;32mfor\u001b[0m \u001b[0mbit\u001b[0m \u001b[1;32min\u001b[0m \u001b[0mdata\u001b[0m\u001b[1;33m:\u001b[0m\u001b[1;33m\u001b[0m\u001b[0m\n\u001b[0;32m      6\u001b[0m         \u001b[1;32mif\u001b[0m \u001b[1;33m(\u001b[0m\u001b[0mbit\u001b[0m \u001b[1;33m==\u001b[0m \u001b[1;34m'0'\u001b[0m\u001b[1;33m)\u001b[0m\u001b[1;33m:\u001b[0m \u001b[0mcodeTree\u001b[0m \u001b[1;33m=\u001b[0m \u001b[0mcodeTree\u001b[0m\u001b[1;33m[\u001b[0m\u001b[1;36m1\u001b[0m\u001b[1;33m]\u001b[0m\u001b[1;33m\u001b[0m\u001b[0m\n\u001b[1;32m----> 7\u001b[1;33m         \u001b[1;32melse\u001b[0m\u001b[1;33m:\u001b[0m \u001b[0mcodeTree\u001b[0m \u001b[1;33m=\u001b[0m \u001b[0mcodeTree\u001b[0m\u001b[1;33m[\u001b[0m\u001b[1;36m2\u001b[0m\u001b[1;33m]\u001b[0m\u001b[1;33m\u001b[0m\u001b[0m\n\u001b[0m\u001b[0;32m      8\u001b[0m \u001b[1;33m\u001b[0m\u001b[0m\n\u001b[0;32m      9\u001b[0m         \u001b[1;32mif\u001b[0m \u001b[1;33m(\u001b[0m\u001b[0mlen\u001b[0m\u001b[1;33m(\u001b[0m\u001b[0mcodeTree\u001b[0m\u001b[1;33m)\u001b[0m \u001b[1;33m==\u001b[0m \u001b[1;36m1\u001b[0m\u001b[1;33m)\u001b[0m\u001b[1;33m:\u001b[0m\u001b[1;33m\u001b[0m\u001b[0m\n",
      "\u001b[1;31mIndexError\u001b[0m: tuple index out of range"
     ]
    }
   ],
   "source": [
    "def decode(data, tree):\n",
    "    codeTree = tree\n",
    "    decodedLetters = []\n",
    "\n",
    "    for bit in data:\n",
    "        if (bit == '0'): codeTree = codeTree[1]\n",
    "        else: codeTree = codeTree[2]\n",
    "\n",
    "        if (len(codeTree) == 1):\n",
    "            label, freq = codeTree[0]\n",
    "            decodedLetters.append(label)\n",
    "            codeTree = tree\n",
    "\n",
    "    return ''.join(decodedLetters)\n",
    "\n",
    "tree =  [('ad', 2), [('a', 1)], [('d', 1)]], [('s', 1)]\n",
    "decode('01001',tree)\n"
   ]
  },
  {
   "cell_type": "code",
   "execution_count": null,
   "metadata": {},
   "outputs": [],
   "source": []
  }
 ],
 "metadata": {
  "kernelspec": {
   "display_name": "Python 3",
   "language": "python",
   "name": "python3"
  },
  "language_info": {
   "codemirror_mode": {
    "name": "ipython",
    "version": 3
   },
   "file_extension": ".py",
   "mimetype": "text/x-python",
   "name": "python",
   "nbconvert_exporter": "python",
   "pygments_lexer": "ipython3",
   "version": "3.7.0"
  }
 },
 "nbformat": 4,
 "nbformat_minor": 2
}
