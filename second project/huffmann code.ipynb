{
 "cells": [
  {
   "cell_type": "code",
   "execution_count": 356,
   "metadata": {},
   "outputs": [],
   "source": [
    "import heapq \n",
    "import sys"
   ]
  },
  {
   "cell_type": "markdown",
   "metadata": {},
   "source": [
    "TASK FROM UDACITY\n",
    "Take a string and determine the relevant frequencies of the characters.\n",
    "Build and sort a list of tuples from lowest to highest frequencies.\n",
    "Build the Huffman Tree by assigning a binary code to each letter, using shorter codes for the more frequent letters. (This is the heart of the Huffman algorithm.)\n",
    "Trim the Huffman Tree (remove the frequencies from the previously built tree).\n",
    "Encode the text into its compressed form.\n",
    "Decode the text from its compressed form.\n",
    "                     "
   ]
  },
  {
   "cell_type": "code",
   "execution_count": 357,
   "metadata": {},
   "outputs": [],
   "source": [
    "#take a string and determine the relevant frequencies of the characters\n",
    "# we will use dic, then we can access the value and the letter\n",
    "\n",
    "def frequency_dict(nachricht):\n",
    "    freqency = dict()\n",
    "    for char in nachricht:\n",
    "        if freqency.get(char):\n",
    "            freqency[char] += 1\n",
    "        else:\n",
    "            freqency[char] = 1\n",
    "    return freqency\n",
    "\n",
    "\n"
   ]
  },
  {
   "cell_type": "markdown",
   "metadata": {},
   "source": []
  },
  {
   "cell_type": "code",
   "execution_count": 358,
   "metadata": {},
   "outputs": [],
   "source": [
    "#Build the Huffman Tree by assigning a binary code to each letter,\n",
    "#using shorter codes for the more frequent letters.\n",
    "#(This is the heart of the Huffman algorithm.)\n",
    "#https://towardsdatascience.com/data-structure-heap-23d4c78a6962\n",
    "#https://www.geeksforgeeks.org/heap-queue-or-heapq-in-python/\n",
    "#we use heap, as this is a priority queue\n",
    "\n",
    "def install_tree(freq):    \n",
    "    heap = [] # issue the heap\n",
    "# heappop(heap) :- This function is used to remove and return the smallest element from heap. \n",
    "#The order is adjusted, so as heap structure is maintained.\n",
    "    for bs in freq: heapq.heappush(heap, [bs])\n",
    "    while (len(heap) > 1):\n",
    "         left = heapq.heappop(heap) \n",
    "         right = heapq.heappop(heap)\n",
    "         freq0, label0 = left[0]    \n",
    "         freq1, label1 = right[0]       \n",
    "         node = [(freq0 + freq1, label0 + label1), left, right]\n",
    "         heapq.heappush(heap, node) # using heappush() to push elements into heap \n",
    "    return heap.pop()\n",
    "\n"
   ]
  },
  {
   "cell_type": "code",
   "execution_count": 359,
   "metadata": {},
   "outputs": [],
   "source": [
    "#we make a map of the heap, to add 0 and 1 to our tree. as more often a letter is used, \n",
    "#as shorter the code, as more above the letter is in our tree. \n",
    "\n",
    "#https://www.programiz.com/python-programming/methods/built-in/map\n",
    "def issue_map(tree, map = dict(), code =''): # code later will be 0 or 1\n",
    "    if (len(tree) == 1):\n",
    "        label, freq = tree[0]\n",
    "        map[label] = code\n",
    "    else:\n",
    "        value, left, right = tree\n",
    "        issue_map(left, map, code + \"0\")\n",
    "        issue_map(right, map, code + \"1\")\n",
    "        \n",
    "    return map\n"
   ]
  },
  {
   "cell_type": "code",
   "execution_count": 360,
   "metadata": {},
   "outputs": [
    {
     "data": {
      "text/plain": [
       "('0001100', [('ent', 4), [('en', 3), [('e', 2)], [('n', 1)]], [('t', 1)]])"
      ]
     },
     "execution_count": 360,
     "metadata": {},
     "output_type": "execute_result"
    }
   ],
   "source": [
    "# write a function that will encode the given message \n",
    "def encode(nachricht):\n",
    "    tree = install_tree(frequency_dict(nachricht))\n",
    "    map = issue_map(tree)\n",
    "    data = ''.join([ map[letter] for letter in nachricht])\n",
    "    return data, tree\n",
    "\n",
    "#test case 2\n",
    "encode(\"ente\")"
   ]
  },
  {
   "cell_type": "code",
   "execution_count": 361,
   "metadata": {},
   "outputs": [],
   "source": [
    "def decode(data, tree):\n",
    "    Baum = tree\n",
    "    decoded = []\n",
    "\n",
    "    for bit in data:\n",
    "        if (bit == '0'):\n",
    "            Baum = Baum[1]\n",
    "        else:\n",
    "            Baum = Baum[2]\n",
    "\n",
    "        if (len(Baum) == 1):\n",
    "            label, freq = Baum[0]\n",
    "            decoded.append(label)\n",
    "            Baum = tree\n",
    "\n",
    "    return ''.join(decoded)\n",
    "\n"
   ]
  },
  {
   "cell_type": "code",
   "execution_count": 362,
   "metadata": {},
   "outputs": [
    {
     "name": "stdout",
     "output_type": "stream",
     "text": [
      "The size of the data is: 52\n",
      "\n",
      "The content of the data is: e88\n",
      "\n",
      "The size of the encoded data is: 28\n",
      "\n",
      "The content of the encoded data is: 100\n",
      "\n",
      "The size of the decoded data is: 52\n",
      "\n",
      "The content of the decoded data is: e88\n",
      "\n",
      "____end of this test case_____\n"
     ]
    }
   ],
   "source": [
    "# test cases provided by udacity\n",
    "\n",
    "if __name__ == \"__main__\":\n",
    "    codes = {}\n",
    "  \n",
    "    viertersatz = \"e88\"\n",
    "\n",
    "    print (\"The size of the data is: {}\\n\".format(sys.getsizeof(viertersatz)))\n",
    "    print (\"The content of the data is: {}\\n\".format(viertersatz))\n",
    "\n",
    "    encoded_data, tree = encode(viertersatz)\n",
    "\n",
    "    print (\"The size of the encoded data is: {}\\n\".format(sys.getsizeof(int(encoded_data, base=2))))\n",
    "    print (\"The content of the encoded data is: {}\\n\".format(encoded_data))\n",
    "\n",
    "    decoded_data = decode(encoded_data, tree)\n",
    "\n",
    "    print (\"The size of the decoded data is: {}\\n\".format(sys.getsizeof(decoded_data)))\n",
    "    print (\"The content of the decoded data is: {}\\n\".format(decoded_data))\n",
    "    print (\"____end of this test case_____\")\n",
    "    \n"
   ]
  },
  {
   "cell_type": "code",
   "execution_count": 363,
   "metadata": {},
   "outputs": [
    {
     "name": "stdout",
     "output_type": "stream",
     "text": [
      "The size of the data is: 69\n",
      "\n",
      "The content of the data is: the bird is the word\n",
      "\n",
      "The size of the encoded data is: 44\n",
      "\n",
      "The content of the encoded data is: 01000000100000001000000000000000000010000010001000000001000000000000000100100000000000100000010000000100000000001000010001000000001\n",
      "\n",
      "The size of the decoded data is: 69\n",
      "\n",
      "The content of the decoded data is: the bird is the word\n",
      "\n",
      "____end of this test case_____\n"
     ]
    }
   ],
   "source": [
    "# test cases provided by udacity\n",
    "\n",
    "if __name__ == \"__main__\":\n",
    "    codes = {}\n",
    "  \n",
    "    viertersatz = \"the bird is the word\"\n",
    "\n",
    "    print (\"The size of the data is: {}\\n\".format(sys.getsizeof(viertersatz)))\n",
    "    print (\"The content of the data is: {}\\n\".format(viertersatz))\n",
    "\n",
    "    encoded_data, tree = encode(viertersatz)\n",
    "\n",
    "    print (\"The size of the encoded data is: {}\\n\".format(sys.getsizeof(int(encoded_data, base=2))))\n",
    "    print (\"The content of the encoded data is: {}\\n\".format(encoded_data))\n",
    "\n",
    "    decoded_data = decode(encoded_data, tree)\n",
    "\n",
    "    print (\"The size of the decoded data is: {}\\n\".format(sys.getsizeof(decoded_data)))\n",
    "    print (\"The content of the decoded data is: {}\\n\".format(decoded_data))\n",
    "    print (\"____end of this test case_____\")"
   ]
  },
  {
   "cell_type": "code",
   "execution_count": 364,
   "metadata": {},
   "outputs": [
    {
     "name": "stdout",
     "output_type": "stream",
     "text": [
      "The size of the data is: 95\n",
      "\n",
      "The content of the data is: es ist nicht leicht, aber leicht hat es einen.\n",
      "\n",
      "The size of the encoded data is: 72\n",
      "\n",
      "The content of the encoded data is: 00000001010000000000000000001011000000000000000010000010000000010000001100000000000000000100000001000001000000001000000110000000000001000000000000000000000001000000000100000001001000000000000000001000000010000010000000010000001100000000000000000001000000000011000000000000000000001010000000000000000000010000010001000000010001000000000001\n",
      "\n",
      "The size of the decoded data is: 95\n",
      "\n",
      "The content of the decoded data is: es ist nicht leicht, aber leicht hat es einen.\n",
      "\n",
      "____end of this test case_____\n"
     ]
    }
   ],
   "source": [
    "# test cases provided by udacity\n",
    "\n",
    "if __name__ == \"__main__\":\n",
    "    codes = {}\n",
    "  \n",
    "    viertersatz = \"es ist nicht leicht, aber leicht hat es einen.\"\n",
    "\n",
    "    print (\"The size of the data is: {}\\n\".format(sys.getsizeof(viertersatz)))\n",
    "    print (\"The content of the data is: {}\\n\".format(viertersatz))\n",
    "\n",
    "    encoded_data, tree = encode(viertersatz)\n",
    "\n",
    "    print (\"The size of the encoded data is: {}\\n\".format(sys.getsizeof(int(encoded_data, base=2))))\n",
    "    print (\"The content of the encoded data is: {}\\n\".format(encoded_data))\n",
    "\n",
    "    decoded_data = decode(encoded_data, tree)\n",
    "\n",
    "    print (\"The size of the decoded data is: {}\\n\".format(sys.getsizeof(decoded_data)))\n",
    "    print (\"The content of the decoded data is: {}\\n\".format(decoded_data))\n",
    "    print (\"____end of this test case_____\")"
   ]
  },
  {
   "cell_type": "code",
   "execution_count": 365,
   "metadata": {},
   "outputs": [
    {
     "name": "stdout",
     "output_type": "stream",
     "text": [
      "The size of the data is: 51\n",
      "\n",
      "The content of the data is: t.\n",
      "\n",
      "The size of the encoded data is: 28\n",
      "\n",
      "The content of the encoded data is: 10\n",
      "\n",
      "The size of the decoded data is: 51\n",
      "\n",
      "The content of the decoded data is: t.\n",
      "\n",
      "____end of this test case_____\n"
     ]
    }
   ],
   "source": [
    "\n",
    "if __name__ == \"__main__\":\n",
    "    codes = {}\n",
    "  \n",
    "    viertersatz = \"t.\"\n",
    "\n",
    "    print (\"The size of the data is: {}\\n\".format(sys.getsizeof(viertersatz)))\n",
    "    print (\"The content of the data is: {}\\n\".format(viertersatz))\n",
    "\n",
    "    encoded_data, tree = encode(viertersatz)\n",
    "\n",
    "    print (\"The size of the encoded data is: {}\\n\".format(sys.getsizeof(int(encoded_data, base=2))))\n",
    "    print (\"The content of the encoded data is: {}\\n\".format(encoded_data))\n",
    "\n",
    "    decoded_data = decode(encoded_data, tree)\n",
    "\n",
    "    print (\"The size of the decoded data is: {}\\n\".format(sys.getsizeof(decoded_data)))\n",
    "    print (\"The content of the decoded data is: {}\\n\".format(decoded_data))\n",
    "    print (\"____end of this test case_____\")"
   ]
  },
  {
   "cell_type": "code",
   "execution_count": 366,
   "metadata": {},
   "outputs": [
    {
     "name": "stdout",
     "output_type": "stream",
     "text": [
      "The size of the data is: 59\n",
      "\n",
      "The content of the data is: zzzzzzzzzu\n",
      "\n",
      "The size of the encoded data is: 28\n",
      "\n",
      "The content of the encoded data is: 1111111110\n",
      "\n",
      "The size of the decoded data is: 59\n",
      "\n",
      "The content of the decoded data is: zzzzzzzzzu\n",
      "\n",
      "____end of this test case_____\n"
     ]
    }
   ],
   "source": [
    "# test case \n",
    "if __name__ == \"__main__\":\n",
    "    codes = {}\n",
    "  \n",
    "    viertersatz = \"zzzzzzzzzu\"\n",
    "\n",
    "    print (\"The size of the data is: {}\\n\".format(sys.getsizeof(viertersatz)))\n",
    "    print (\"The content of the data is: {}\\n\".format(viertersatz))\n",
    "\n",
    "    encoded_data, tree = encode(viertersatz)\n",
    "\n",
    "    print (\"The size of the encoded data is: {}\\n\".format(sys.getsizeof(int(encoded_data, base=2))))\n",
    "    print (\"The content of the encoded data is: {}\\n\".format(encoded_data))\n",
    "\n",
    "    decoded_data = decode(encoded_data, tree)\n",
    "\n",
    "    print (\"The size of the decoded data is: {}\\n\".format(sys.getsizeof(decoded_data)))\n",
    "    print (\"The content of the decoded data is: {}\\n\".format(decoded_data))\n",
    "    print (\"____end of this test case_____\")"
   ]
  }
 ],
 "metadata": {
  "kernelspec": {
   "display_name": "Python 3",
   "language": "python",
   "name": "python3"
  },
  "language_info": {
   "codemirror_mode": {
    "name": "ipython",
    "version": 3
   },
   "file_extension": ".py",
   "mimetype": "text/x-python",
   "name": "python",
   "nbconvert_exporter": "python",
   "pygments_lexer": "ipython3",
   "version": "3.7.0"
  }
 },
 "nbformat": 4,
 "nbformat_minor": 2
}
