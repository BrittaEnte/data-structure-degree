{
 "cells": [
  {
   "cell_type": "code",
   "execution_count": 33,
   "metadata": {},
   "outputs": [],
   "source": [
    "from heapq import heappush, heappop, heapify\n",
    "from collections import defaultdict\n",
    "from bitarray import bitarray"
   ]
  },
  {
   "cell_type": "markdown",
   "metadata": {},
   "source": [
    "TASK FROM UDACITY\n",
    "Take a string and determine the relevant frequencies of the characters.\n",
    "Build and sort a list of tuples from lowest to highest frequencies.\n",
    "Build the Huffman Tree by assigning a binary code to each letter, using shorter codes for the more frequent letters. (This is the heart of the Huffman algorithm.)\n",
    "Trim the Huffman Tree (remove the frequencies from the previously built tree).\n",
    "Encode the text into its compressed form.\n",
    "Decode the text from its compressed form.\n",
    "                     "
   ]
  },
  {
   "cell_type": "code",
   "execution_count": 34,
   "metadata": {},
   "outputs": [
    {
     "data": {
      "text/plain": [
       "{'e': 2, 'n': 1, 't': 1}"
      ]
     },
     "execution_count": 34,
     "metadata": {},
     "output_type": "execute_result"
    }
   ],
   "source": [
    "# take a string and determine the relevant frequencies of the characters\n",
    "# we will use dic, then we can access the value and the letter\n",
    "frequency = {}\n",
    "def make_frequency_dict(text):\n",
    "\t\t#frequency = {}\n",
    "\t\tfor character in text:\n",
    "\t\t\tif not character in frequency:\n",
    "\t\t\t\tfrequency[character] = 0\n",
    "\t\t\tfrequency[character] += 1\n",
    "\t\treturn frequency\n",
    "    \n",
    "#test case\n",
    "text = \"ente\"\n",
    "make_frequency_dict(text)\n",
    "\n"
   ]
  },
  {
   "cell_type": "code",
   "execution_count": 35,
   "metadata": {},
   "outputs": [
    {
     "name": "stdout",
     "output_type": "stream",
     "text": [
      "[('e', 2), ('n', 1), ('t', 1)]\n",
      "[('n', 1), ('t', 1), ('e', 2)]\n"
     ]
    }
   ],
   "source": [
    "#Build and sort a list of tuples from lowest to highest frequencies.\n",
    "#convert the dictionary into a list of tuples\n",
    "\n",
    "l = [(k, v) for k, v in frequency.items()] \n",
    "print (l) \n",
    "\n",
    "l.sort(key=lambda elem: elem[1])\n",
    "print (l) "
   ]
  },
  {
   "cell_type": "code",
   "execution_count": null,
   "metadata": {},
   "outputs": [],
   "source": [
    "#Build the Huffman Tree by assigning a binary code to each letter,\n",
    "#using shorter codes for the more frequent letters.\n",
    "#(This is the heart of the Huffman algorithm.)\n",
    "\n"
   ]
  }
 ],
 "metadata": {
  "kernelspec": {
   "display_name": "Python 3",
   "language": "python",
   "name": "python3"
  },
  "language_info": {
   "codemirror_mode": {
    "name": "ipython",
    "version": 3
   },
   "file_extension": ".py",
   "mimetype": "text/x-python",
   "name": "python",
   "nbconvert_exporter": "python",
   "pygments_lexer": "ipython3",
   "version": "3.7.0"
  }
 },
 "nbformat": 4,
 "nbformat_minor": 2
}
