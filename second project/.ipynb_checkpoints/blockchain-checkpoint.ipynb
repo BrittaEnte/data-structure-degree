{
 "cells": [
  {
   "cell_type": "markdown",
   "metadata": {},
   "source": [
    "blockchain problem "
   ]
  },
  {
   "cell_type": "markdown",
   "metadata": {},
   "source": [
    "Blockchain\n",
    "A Blockchain is a sequential chain of records, similar to a linked list. Each block contains some information and how it is connected related to the other blocks in the chain. Each block contains a cryptographic hash of the previous block, a timestamp, and transaction data. For our blockchain we will be using a SHA-256 hash, the Greenwich Mean Time when the block was created, and text strings as the data."
   ]
  },
  {
   "cell_type": "code",
   "execution_count": 19,
   "metadata": {},
   "outputs": [],
   "source": [
    "import hashlib\n",
    "import datetime"
   ]
  },
  {
   "cell_type": "code",
   "execution_count": 20,
   "metadata": {},
   "outputs": [],
   "source": [
    "class Block:\n",
    "\n",
    "    def __init__(self,data,timestamp,previous_hash):      \n",
    "        self.timestamp = timestamp     \n",
    "        self.data = data\n",
    "        self.previous_hash = previous_hash\n",
    "        self.hash = self.calc_hash(data)\n",
    "        self.next = None \n",
    "        \n",
    "    def calc_hash(self,data):\n",
    "      sha = hashlib.sha256()\n",
    "      hash_str =str(self.data).encode('utf-8') + str(self.timestamp).encode('utf-8') + str(self.previous_hash).encode('utf-8')\n",
    "      sha.update(hash_str)\n",
    "      return sha.hexdigest()\n",
    "\n",
    "class Blockchain(object):\n",
    "    def __init__(self):\n",
    "        self.tail = None\n",
    "        self.head = None \n",
    "        self.size = 0        \n",
    "        \n",
    "    def append(self, data):\n",
    "        if data is None:\n",
    "            return        \n",
    "        node = self.head \n",
    "        self.size += 1\n",
    "\n",
    "        if node is None:\n",
    "            block = Block(data, datetime.datetime.now(), None)\n",
    "            self.head = block\n",
    "            self.tail = block \n",
    "        else:\n",
    "            self.tail.next =  Block(data, datetime.datetime.now(),node.hash)\n",
    "            self.tail = self.tail.next            \n",
    "            \n",
    "            \n",
    "    def print(self):\n",
    "        curr = self.head\n",
    "        while curr:\n",
    "            print(curr.data, curr.timestamp, curr.previous_hash)\n",
    "            curr = curr.next  \n",
    "\n"
   ]
  },
  {
   "cell_type": "code",
   "execution_count": 21,
   "metadata": {},
   "outputs": [
    {
     "name": "stdout",
     "output_type": "stream",
     "text": [
      "ente 2019-12-01 09:29:42.667193 None\n",
      "dog 2019-12-01 09:29:42.667193 38beca680a15a67752877bca00088e3978bd92d2c662b8397c62703dcb458fed\n",
      "9999 2019-12-01 09:29:42.667193 38beca680a15a67752877bca00088e3978bd92d2c662b8397c62703dcb458fed\n"
     ]
    }
   ],
   "source": [
    "#test case 1\n",
    "test= Blockchain()\n",
    "test.append(\"ente\")\n",
    "test.append(\"dog\")\n",
    "test.append(9999)\n",
    "test.print()\n"
   ]
  },
  {
   "cell_type": "code",
   "execution_count": 24,
   "metadata": {},
   "outputs": [
    {
     "name": "stdout",
     "output_type": "stream",
     "text": [
      "ente 2019-12-01 09:30:15.994721 None\n",
      "dog 2019-12-01 09:30:15.994721 dc81b7cd90c88efafbe42e73ef5e8340c186afe692ec627b153c641e5b028ab7\n",
      "9999 2019-12-01 09:30:15.994721 dc81b7cd90c88efafbe42e73ef5e8340c186afe692ec627b153c641e5b028ab7\n",
      " 2019-12-01 09:30:15.995721 dc81b7cd90c88efafbe42e73ef5e8340c186afe692ec627b153c641e5b028ab7\n"
     ]
    }
   ],
   "source": [
    "# test case 2\n",
    "test= Blockchain()\n",
    "test.append(\"ente\")\n",
    "test.append(\"dog\")\n",
    "test.append(9999)\n",
    "test.append(\"\")\n",
    "test.print()\n"
   ]
  },
  {
   "cell_type": "code",
   "execution_count": 26,
   "metadata": {},
   "outputs": [
    {
     "name": "stdout",
     "output_type": "stream",
     "text": [
      "999 2019-12-01 09:32:52.878879 None\n",
      "-1 2019-12-01 09:32:52.878879 c57c55b48abe33bb52d2f33a7569b8d7e346446476a17a9092679f28aeabeff7\n"
     ]
    }
   ],
   "source": [
    "# test case 3\n",
    "test= Blockchain()\n",
    "test.append(999)\n",
    "test.append(-1)\n",
    "test.print()\n"
   ]
  },
  {
   "cell_type": "code",
   "execution_count": null,
   "metadata": {},
   "outputs": [],
   "source": []
  }
 ],
 "metadata": {
  "kernelspec": {
   "display_name": "Python 3",
   "language": "python",
   "name": "python3"
  },
  "language_info": {
   "codemirror_mode": {
    "name": "ipython",
    "version": 3
   },
   "file_extension": ".py",
   "mimetype": "text/x-python",
   "name": "python",
   "nbconvert_exporter": "python",
   "pygments_lexer": "ipython3",
   "version": "3.7.0"
  }
 },
 "nbformat": 4,
 "nbformat_minor": 2
}
