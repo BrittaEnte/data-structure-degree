{
 "cells": [
  {
   "cell_type": "code",
   "execution_count": 48,
   "metadata": {},
   "outputs": [],
   "source": [
    "import heapq \n",
    "from collections import defaultdict\n",
    "from bitarray import bitarray\n",
    "import sys"
   ]
  },
  {
   "cell_type": "markdown",
   "metadata": {},
   "source": [
    "TASK FROM UDACITY\n",
    "Take a string and determine the relevant frequencies of the characters.\n",
    "Build and sort a list of tuples from lowest to highest frequencies.\n",
    "Build the Huffman Tree by assigning a binary code to each letter, using shorter codes for the more frequent letters. (This is the heart of the Huffman algorithm.)\n",
    "Trim the Huffman Tree (remove the frequencies from the previously built tree).\n",
    "Encode the text into its compressed form.\n",
    "Decode the text from its compressed form.\n",
    "                     "
   ]
  },
  {
   "cell_type": "code",
   "execution_count": 49,
   "metadata": {},
   "outputs": [
    {
     "data": {
      "text/plain": [
       "dict_items([('e', 7), ('s', 3), (' ', 8), ('i', 5), ('t', 5), ('n', 3), ('c', 3), ('h', 4), ('l', 2), (',', 1), ('a', 2), ('b', 1), ('r', 1)])"
      ]
     },
     "execution_count": 49,
     "metadata": {},
     "output_type": "execute_result"
    }
   ],
   "source": [
    "#take a string and determine the relevant frequencies of the characters\n",
    "# we will use dic, then we can access the value and the letter\n",
    "\n",
    "def frequency_dict(message):\n",
    "    freqency = dict()\n",
    "    for char in message:\n",
    "        if freqency.get(char):\n",
    "            freqency[char] += 1\n",
    "        else:\n",
    "            freqency[char] = 1\n",
    "    return freqency.items()\n",
    "\n",
    "message = \"es ist nicht leicht, aber leicht hat es einen\"\n",
    "frequency_dict(message)\n"
   ]
  },
  {
   "cell_type": "markdown",
   "metadata": {},
   "source": []
  },
  {
   "cell_type": "code",
   "execution_count": 52,
   "metadata": {},
   "outputs": [],
   "source": [
    "#Build the Huffman Tree by assigning a binary code to each letter,\n",
    "#using shorter codes for the more frequent letters.\n",
    "#(This is the heart of the Huffman algorithm.)\n",
    "#https://towardsdatascience.com/data-structure-heap-23d4c78a6962\n",
    "#https://www.geeksforgeeks.org/heap-queue-or-heapq-in-python/\n",
    "#we use heap, as this is a priority queue\n",
    "\n",
    "def install_tree(freq):    \n",
    "    heap = [] # issue the heap\n",
    "# heappop(heap) :- This function is used to remove and return the smallest element from heap. \n",
    "#The order is adjusted, so as heap structure is maintained.\n",
    "    for bs in freq: heapq.heappush(heap, [bs])\n",
    "    while (len(heap) > 1):\n",
    "         right = heapq.heappop(heap) \n",
    "         left = heapq.heappop(heap)\n",
    "         freq1, label1 = right[0]    \n",
    "         freq0, label0 = left[0]       \n",
    "         node = [(freq0 + freq1, label0 + label1), left, right]\n",
    "         heapq.heappush(heap, node) # using heappush() to push elements into heap \n",
    "    return heap.pop()\n",
    "\n"
   ]
  },
  {
   "cell_type": "code",
   "execution_count": null,
   "metadata": {},
   "outputs": [],
   "source": [
    "#we make a map of the heap, to add 0 and 1 to our tree. as more often a letter is used, \n",
    "#as shorter the code, as more above the letter is in our tree. \n",
    "\n",
    "#https://www.programiz.com/python-programming/methods/built-in/map\n",
    "def issue_map(tree, map = dict(), code =''): # code later will be 0 or 1\n",
    "    if (len(tree) == 1):\n",
    "        label, freq = tree[0]\n",
    "        map[label] = code\n",
    "    else:\n",
    "        value, left, right = tree\n",
    "        issue_map(right, map, code + \"1\")\n",
    "        issue_map(left, map, code + \"0\")\n",
    "        \n",
    "    return map\n"
   ]
  },
  {
   "cell_type": "code",
   "execution_count": null,
   "metadata": {},
   "outputs": [],
   "source": [
    "# write a function that will encode the given message \n",
    "def encode(nachricht):\n",
    "    tree = install_tree(frequency_dict(nachricht))\n",
    "    map = issue_map(tree)\n",
    "    data = ''.join([ map[letter] for letter in nachricht])\n",
    "    return data, tree\n",
    "\n",
    "#test case 2\n",
    "encode(\"das ist das leben\")"
   ]
  },
  {
   "cell_type": "code",
   "execution_count": null,
   "metadata": {},
   "outputs": [],
   "source": [
    "def decode(data, tree):\n",
    "    Baum = tree\n",
    "    decoded = []\n",
    "\n",
    "    for bit in data:\n",
    "        if (bit == '0'):\n",
    "            Baum = Baum[1]\n",
    "        else:\n",
    "            Baum = Baum[2]\n",
    "\n",
    "        if (len(Baum) == 1):\n",
    "            label, freq = Baum[0]\n",
    "            decoded.append(label)\n",
    "            Baum = tree\n",
    "\n",
    "    return ''.join(decoded)\n",
    "\n"
   ]
  },
  {
   "cell_type": "code",
   "execution_count": 56,
   "metadata": {},
   "outputs": [
    {
     "name": "stdout",
     "output_type": "stream",
     "text": [
      "The size of the data is: 69\n",
      "\n",
      "The content of the data is: The bird is the word\n",
      "\n",
      "The size of the encoded data is: 44\n",
      "\n",
      "The content of the encoded data is: 111111111101111110111111101111111111111111111101111101110111111110111111111111111101101111111111110111111011111110111111111110111101110111111110\n",
      "\n",
      "The size of the decoded data is: 69\n",
      "\n",
      "The content of the encoded data is: The bird is the word\n",
      "\n",
      "____end of this test case_____\n",
      "The size of the data is: 95\n",
      "\n",
      "The content of the data is: es ist nicht leicht, aber leicht hat es einen \n",
      "\n",
      "The size of the encoded data is: 68\n",
      "\n",
      "The content of the encoded data is: 11111110101111111111111111101001111111111111110111110111111110111111001111111111111111011111110111110111111110111111001111111111101111111111111111111111011111111101111111011011111111111111110111111101111101111111101111110011111111111111111101111111111001111111111111111111010111111111111111111101111101110111111101110111111111111\n",
      "\n",
      "The size of the decoded data is: 95\n",
      "\n",
      "The content of the encoded data is: es ist nicht leicht, aber leicht hat es einen \n",
      "\n",
      "____end of this test case_____\n",
      "The size of the data is: 83\n",
      "\n",
      "The content of the data is: diese aufgabe ist echt der horror \n",
      "\n",
      "The size of the encoded data is: 64\n",
      "\n",
      "The content of the encoded data is: 1111111111011111011111111101101111111110111111111111111111111111111001111111101111111011111111111110111111111111011111111101111111111111111111011010111111111111111111111110111111111110111111010111111111111111111111111011111111101110111111111111111111110111101110111011110111011111111111111\n",
      "\n",
      "The size of the decoded data is: 83\n",
      "\n",
      "The content of the encoded data is: diese aufgabe ist echt der horror \n",
      "\n",
      "____end of this test case_____\n"
     ]
    }
   ],
   "source": [
    "# test cases provided by udacity\n",
    "\n",
    "\n",
    "if __name__ == \"__main__\":\n",
    "    codes = {}\n",
    "\n",
    "    a_great_sentence = \"The bird is the word\"\n",
    "\n",
    "    print (\"The size of the data is: {}\\n\".format(sys.getsizeof(a_great_sentence)))\n",
    "    print (\"The content of the data is: {}\\n\".format(a_great_sentence))\n",
    "\n",
    "    encoded_data, tree = encode(a_great_sentence)\n",
    "\n",
    "    print (\"The size of the encoded data is: {}\\n\".format(sys.getsizeof(int(encoded_data, base=2))))\n",
    "    print (\"The content of the encoded data is: {}\\n\".format(encoded_data))\n",
    "\n",
    "    decoded_data = decode(encoded_data, tree)\n",
    "\n",
    "    print (\"The size of the decoded data is: {}\\n\".format(sys.getsizeof(decoded_data)))\n",
    "    print (\"The content of the encoded data is: {}\\n\".format(decoded_data))\n",
    "    print (\"____end of this test case_____\")\n",
    "    \n",
    "    \n",
    "    zweitersatz = \"es ist nicht leicht, aber leicht hat es einen \"\n",
    "\n",
    "    print (\"The size of the data is: {}\\n\".format(sys.getsizeof(zweitersatz)))\n",
    "    print (\"The content of the data is: {}\\n\".format(zweitersatz))\n",
    "\n",
    "    encoded_data, tree = encode(zweitersatz)\n",
    "\n",
    "    print (\"The size of the encoded data is: {}\\n\".format(sys.getsizeof(int(encoded_data, base=2))))\n",
    "    print (\"The content of the encoded data is: {}\\n\".format(encoded_data))\n",
    "\n",
    "    decoded_data = decode(encoded_data, tree)\n",
    "\n",
    "    print (\"The size of the decoded data is: {}\\n\".format(sys.getsizeof(decoded_data)))\n",
    "    print (\"The content of the encoded data is: {}\\n\".format(decoded_data))\n",
    "    print (\"____end of this test case_____\")\n",
    "\n",
    "    \n",
    "    drittersatz = \"diese aufgabe ist echt der horror \"\n",
    "\n",
    "    print (\"The size of the data is: {}\\n\".format(sys.getsizeof(drittersatz)))\n",
    "    print (\"The content of the data is: {}\\n\".format(drittersatz))\n",
    "\n",
    "    encoded_data, tree = encode(drittersatz)\n",
    "\n",
    "    print (\"The size of the encoded data is: {}\\n\".format(sys.getsizeof(int(encoded_data, base=2))))\n",
    "    print (\"The content of the encoded data is: {}\\n\".format(encoded_data))\n",
    "\n",
    "    decoded_data = decode(encoded_data, tree)\n",
    "\n",
    "    print (\"The size of the decoded data is: {}\\n\".format(sys.getsizeof(decoded_data)))\n",
    "    print (\"The content of the encoded data is: {}\\n\".format(decoded_data))\n",
    "    print (\"____end of this test case_____\")\n"
   ]
  },
  {
   "cell_type": "code",
   "execution_count": null,
   "metadata": {},
   "outputs": [],
   "source": []
  }
 ],
 "metadata": {
  "kernelspec": {
   "display_name": "Python 3",
   "language": "python",
   "name": "python3"
  },
  "language_info": {
   "codemirror_mode": {
    "name": "ipython",
    "version": 3
   },
   "file_extension": ".py",
   "mimetype": "text/x-python",
   "name": "python",
   "nbconvert_exporter": "python",
   "pygments_lexer": "ipython3",
   "version": "3.7.0"
  }
 },
 "nbformat": 4,
 "nbformat_minor": 2
}
