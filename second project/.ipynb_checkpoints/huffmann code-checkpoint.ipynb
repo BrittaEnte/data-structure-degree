{
 "cells": [
  {
   "cell_type": "code",
   "execution_count": 33,
   "metadata": {},
   "outputs": [],
   "source": [
    "import heapq \n",
    "from collections import defaultdict\n",
    "from bitarray import bitarray\n",
    "import sys"
   ]
  },
  {
   "cell_type": "markdown",
   "metadata": {},
   "source": [
    "TASK FROM UDACITY\n",
    "Take a string and determine the relevant frequencies of the characters.\n",
    "Build and sort a list of tuples from lowest to highest frequencies.\n",
    "Build the Huffman Tree by assigning a binary code to each letter, using shorter codes for the more frequent letters. (This is the heart of the Huffman algorithm.)\n",
    "Trim the Huffman Tree (remove the frequencies from the previously built tree).\n",
    "Encode the text into its compressed form.\n",
    "Decode the text from its compressed form.\n",
    "                     "
   ]
  },
  {
   "cell_type": "code",
   "execution_count": 34,
   "metadata": {},
   "outputs": [
    {
     "data": {
      "text/plain": [
       "dict_items([('e', 1), ('s', 1), (' ', 1), ('i', 1), ('t', 1), ('n', 1), ('c', 1), ('h', 1), ('l', 1), (',', 1), ('a', 1), ('b', 1), ('r', 1)])"
      ]
     },
     "execution_count": 34,
     "metadata": {},
     "output_type": "execute_result"
    }
   ],
   "source": [
    "# take a string and determine the relevant frequencies of the characters\n",
    "# we will use dic, then we can access the value and the letter\n",
    "\n",
    "def frequency_dict(text):\n",
    "    frequency = dict()\n",
    "    for character in text:\n",
    "            if not character in frequency:\n",
    "                frequency[character] = 0\n",
    "                frequency[character] += 1\n",
    "    return frequency.items()\n",
    "    \n",
    "#test case\n",
    "text = \"es ist nicht leicht, aber leicht hat es einen\"\n",
    "frequency_dict(text)\n",
    "\n"
   ]
  },
  {
   "cell_type": "markdown",
   "metadata": {},
   "source": []
  },
  {
   "cell_type": "code",
   "execution_count": 39,
   "metadata": {},
   "outputs": [],
   "source": [
    "#Build the Huffman Tree by assigning a binary code to each letter,\n",
    "#using shorter codes for the more frequent letters.\n",
    "#(This is the heart of the Huffman algorithm.)\n",
    "#https://towardsdatascience.com/data-structure-heap-23d4c78a6962\n",
    "#https://www.geeksforgeeks.org/heap-queue-or-heapq-in-python/\n",
    "#we use heap, as this is a priority queue\n",
    "\n",
    "def install_tree(freq):    \n",
    "    heap = [] # issue the heap\n",
    "# heappop(heap) :- This function is used to remove and return the smallest element from heap. \n",
    "#The order is adjusted, so as heap structure is maintained.\n",
    "    for bs in freq: heapq.heappush(heap, [bs])\n",
    "    while (len(heap) > 1):\n",
    "        right = heapq.heappop(heap)\n",
    "        left = heapq.heappop(heap)        \n",
    "        freq1, label1 = right[0]\n",
    "        freq0, label0 = left[0]\n",
    "        \n",
    "        node = [(freq0 + freq1, label0 + label1), left, right]\n",
    "        heapq.heappush(heap, node) # using heappush() to push elements into heap \n",
    "    return heap.pop()\n",
    "\n"
   ]
  },
  {
   "cell_type": "code",
   "execution_count": 36,
   "metadata": {},
   "outputs": [],
   "source": [
    "#we make a map of the heap, to add 0 and 1 to our tree. as more often a letter is used, \n",
    "#as shorter the code, as more above the letter is in our tree. \n",
    "\n",
    "#https://www.programiz.com/python-programming/methods/built-in/map\n",
    "def issue_map(tree, map = dict(), code =''): # code later will be 0 or 1\n",
    "    if (len(tree) == 1):\n",
    "        label, freq = tree[0]\n",
    "        map[label] = code\n",
    "    else:\n",
    "        value, left, right = tree\n",
    "        issue_map(right, map, code + \"1\")\n",
    "        issue_map(left, map, code + \"0\")\n",
    "        \n",
    "    return map\n"
   ]
  },
  {
   "cell_type": "code",
   "execution_count": 37,
   "metadata": {},
   "outputs": [
    {
     "data": {
      "text/plain": [
       "('11111101111111101011111111111110100111111111111111011111111010111111111111011111011111110111110110',\n",
       " [('tsnliedba ', 10),\n",
       "  [('t', 1)],\n",
       "  [('snliedba ', 9),\n",
       "   [('s', 1)],\n",
       "   [('nliedba ', 8),\n",
       "    [('n', 1)],\n",
       "    [('liedba ', 7),\n",
       "     [('l', 1)],\n",
       "     [('iedba ', 6),\n",
       "      [('i', 1)],\n",
       "      [('edba ', 5),\n",
       "       [('e', 1)],\n",
       "       [('dba ', 4),\n",
       "        [('d', 1)],\n",
       "        [('ba ', 3), [('b', 1)], [('a ', 2), [('a', 1)], [(' ', 1)]]]]]]]]]])"
      ]
     },
     "execution_count": 37,
     "metadata": {},
     "output_type": "execute_result"
    }
   ],
   "source": [
    "# write a function that will encode the given message \n",
    "def encode(nachricht):\n",
    "    tree = install_tree(frequency_dict(nachricht))\n",
    "    map = issue_map(tree)\n",
    "    data = ''.join([ map[letter] for letter in nachricht ])\n",
    "    return data, tree\n",
    "\n",
    "encode(\"das ist das leben\")"
   ]
  },
  {
   "cell_type": "code",
   "execution_count": 44,
   "metadata": {},
   "outputs": [
    {
     "data": {
      "text/plain": [
       "'sas'"
      ]
     },
     "execution_count": 44,
     "metadata": {},
     "output_type": "execute_result"
    }
   ],
   "source": [
    "def decode(data, tree):\n",
    "    Baum = tree\n",
    "    decoded = []\n",
    "\n",
    "    for bit in data:\n",
    "        if (bit == '0'): Baum = Baum[1]\n",
    "        else: Baum = Baum[0]\n",
    "\n",
    "        if (len(Baum) == 1):\n",
    "            label, freq = Baum[0]\n",
    "            decoded.append(label)\n",
    "            Baum = tree\n",
    "\n",
    "    return ''.join(decoded)\n",
    "\n",
    "tree =  [('ad', 2), [('a', 1)], [('d', 1)]], [('s', 1)]\n",
    "decode('01001',tree)\n"
   ]
  },
  {
   "cell_type": "code",
   "execution_count": null,
   "metadata": {},
   "outputs": [],
   "source": []
  }
 ],
 "metadata": {
  "kernelspec": {
   "display_name": "Python 3",
   "language": "python",
   "name": "python3"
  },
  "language_info": {
   "codemirror_mode": {
    "name": "ipython",
    "version": 3
   },
   "file_extension": ".py",
   "mimetype": "text/x-python",
   "name": "python",
   "nbconvert_exporter": "python",
   "pygments_lexer": "ipython3",
   "version": "3.7.0"
  }
 },
 "nbformat": 4,
 "nbformat_minor": 2
}
