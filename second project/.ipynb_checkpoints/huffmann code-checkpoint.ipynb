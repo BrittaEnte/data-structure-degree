{
 "cells": [
  {
   "cell_type": "code",
   "execution_count": 19,
   "metadata": {},
   "outputs": [
    {
     "ename": "SyntaxError",
     "evalue": "invalid syntax (<ipython-input-19-31928353d9ee>, line 39)",
     "output_type": "error",
     "traceback": [
      "\u001b[1;36m  File \u001b[1;32m\"<ipython-input-19-31928353d9ee>\"\u001b[1;36m, line \u001b[1;32m39\u001b[0m\n\u001b[1;33m    testMakeTree():\u001b[0m\n\u001b[1;37m                   ^\u001b[0m\n\u001b[1;31mSyntaxError\u001b[0m\u001b[1;31m:\u001b[0m invalid syntax\n"
     ]
    }
   ],
   "source": [
    "# importing \"heapq\" to implement heap queue \n",
    "import heapq \n",
    "\n",
    "def printTree (tree, depth = 0):\n",
    "    # node : [value, child0, child1]\n",
    "    value = tree [0]\n",
    "    child0 = tree[1] if (len(tree) >= 2) else None\n",
    "    child1 = tree[2]if (len(tree) >= 3) else None\n",
    "    print(\" \" * depth, value)\n",
    "    if (child != None): printTree(child0, depth+1)\n",
    "    if (child != None): printTree(child1, depth+1)\n",
    "        \n",
    "#tree = [\"a\", [\"b\",[\"d\"]], [\"c\", [\"e\",][\"f\"]] ]\n",
    "#printTree(tree)\n",
    "\n",
    "# make a tree from the letter distribution\n",
    "\n",
    "def makeTree(letterfrequence):\n",
    "    #https://www.geeksforgeeks.org/heap-queue-or-heapq-in-python/\n",
    "    # make a tree that shows the frequency of the letters.\n",
    "    heap=[]\n",
    "    for x in letterfrequence : \n",
    "        heapq.heappush(heap, [x])\n",
    "        while (len(heap)>1): \n",
    "            child0 = heapq.heappop(heap)\n",
    "            child1 = heapq.heappop(heap)\n",
    "            # refer frequence and letter to the child\n",
    "            fre0, letter0 = child0[0]\n",
    "            fre1, letter1 = child1[0]\n",
    "            # calculate total  frequence\n",
    "            fre = fre0 + fre1\n",
    "           \n",
    "            # sort this new variables and join them together\n",
    "            letter =\"\".join(sorted(letter0+ letter1))\n",
    "            # put the data into the node\n",
    "            node= [(fre, letter), child0, child1]\n",
    "            heapq.heappush(heap, node)\n",
    "\n",
    "testMakeTree():\n",
    "    print(\"testing makeTree()...\", end=\"\")\n",
    "    tree = makeTree([(45,\"a\"), (13,\"b\"), (12,\"c\"),(16,\"d\"),(9,\"e\"), (5,\"f\")])\n",
    "    assert(tree == [(100, \"abcdef\"),\n",
    "                    [(45,\"a\")],\n",
    "                    [(55,\"bcdef\"),\n",
    "                     [(25,\"bc\"),\n",
    "                        [(12,\"c\")],\n",
    "                        [(13,\"b\")]],\n",
    "                     [(30, \"def\"),\n",
    "                        [(14, \"ef\"),\n",
    "                          [(5,\"f\")],\n",
    "                          [(9,\"e\")]],\n",
    "                      [(16,\"d\")]]]])\n",
    "    print (\"passed\")\n",
    "                     "
   ]
  },
  {
   "cell_type": "code",
   "execution_count": null,
   "metadata": {},
   "outputs": [],
   "source": []
  }
 ],
 "metadata": {
  "kernelspec": {
   "display_name": "Python 3",
   "language": "python",
   "name": "python3"
  },
  "language_info": {
   "codemirror_mode": {
    "name": "ipython",
    "version": 3
   },
   "file_extension": ".py",
   "mimetype": "text/x-python",
   "name": "python",
   "nbconvert_exporter": "python",
   "pygments_lexer": "ipython3",
   "version": "3.7.0"
  }
 },
 "nbformat": 4,
 "nbformat_minor": 2
}
