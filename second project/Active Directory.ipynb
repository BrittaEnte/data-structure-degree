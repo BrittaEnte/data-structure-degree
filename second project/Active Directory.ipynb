{
 "cells": [
  {
   "cell_type": "markdown",
   "metadata": {},
   "source": [
    "In Windows Active Directory, a group can consist of user(s) and group(s) themselves. We can construct this hierarchy as such. Where User is represented by str representing their ids."
   ]
  },
  {
   "cell_type": "code",
   "execution_count": 9,
   "metadata": {},
   "outputs": [
    {
     "name": "stdout",
     "output_type": "stream",
     "text": [
      "True\n"
     ]
    }
   ],
   "source": [
    "class Group(object):\n",
    "    def __init__(self, _name):\n",
    "        self.name = _name\n",
    "        self.groups = []\n",
    "        self.users = []\n",
    "\n",
    "    def add_group(self, group):\n",
    "        self.groups.append(group)\n",
    "          \n",
    "\n",
    "    def add_user(self, user):\n",
    "        self.users.append(user)\n",
    "\n",
    "    def get_groups(self):\n",
    "        return self.groups\n",
    "\n",
    "    def get_users(self):\n",
    "        return self.users\n",
    "\n",
    "    def get_name(self):\n",
    "        return self.name\n",
    "\n",
    "\n",
    "parent = Group(\"parent\")\n",
    "child = Group(\"child\")\n",
    "sub_child = Group(\"subchild\")\n",
    "\n",
    "sub_child_user = \"ente\"\n",
    "sub_child.add_user(sub_child_user)\n",
    "\n",
    "\n",
    "child.add_group(sub_child)\n",
    "parent.add_group(child)\n",
    "user =\"ente\"\n",
    "if user in sub_child.get_users():\n",
    "    print (\"True\") \n",
    "else:\n",
    "    print (\"false\")"
   ]
  },
  {
   "cell_type": "code",
   "execution_count": 8,
   "metadata": {},
   "outputs": [
    {
     "data": {
      "text/plain": [
       "True"
      ]
     },
     "execution_count": 8,
     "metadata": {},
     "output_type": "execute_result"
    }
   ],
   "source": [
    "def _is_user_in_group(user, group, result=None):\n",
    "        \"\"\"Checks if the user is in the group. \"\"\"       \n",
    "      \n",
    "        # is the user in the group?\n",
    "        if user in group.get_users():\n",
    "            return True\n",
    "        \n",
    "        # if not is the user in the subgroup? we can do this recursivly \n",
    "        for subgroup in group.get_groups():\n",
    "            result = _is_user_in_group(user, subgroup)\n",
    "            if result:\n",
    "                return result\n",
    "\n",
    "        return False\n",
    "\n",
    "        return _is_user_in_group(user, group)\n",
    "    \n",
    "    \n",
    "#test case\n",
    "_is_user_in_group(\"ente\", child)  \n",
    "# the result is True ,because this user is in a subgroup of child.\n"
   ]
  },
  {
   "cell_type": "code",
   "execution_count": null,
   "metadata": {},
   "outputs": [],
   "source": []
  },
  {
   "cell_type": "code",
   "execution_count": null,
   "metadata": {},
   "outputs": [],
   "source": []
  }
 ],
 "metadata": {
  "kernelspec": {
   "display_name": "Python 3",
   "language": "python",
   "name": "python3"
  },
  "language_info": {
   "codemirror_mode": {
    "name": "ipython",
    "version": 3
   },
   "file_extension": ".py",
   "mimetype": "text/x-python",
   "name": "python",
   "nbconvert_exporter": "python",
   "pygments_lexer": "ipython3",
   "version": "3.7.0"
  }
 },
 "nbformat": 4,
 "nbformat_minor": 2
}
