{
 "cells": [
  {
   "cell_type": "markdown",
   "metadata": {},
   "source": [
    "blockchain problem "
   ]
  },
  {
   "cell_type": "markdown",
   "metadata": {},
   "source": [
    "Blockchain\n",
    "A Blockchain is a sequential chain of records, similar to a linked list. Each block contains some information and how it is connected related to the other blocks in the chain. Each block contains a cryptographic hash of the previous block, a timestamp, and transaction data. For our blockchain we will be using a SHA-256 hash, the Greenwich Mean Time when the block was created, and text strings as the data."
   ]
  },
  {
   "cell_type": "code",
   "execution_count": null,
   "metadata": {},
   "outputs": [],
   "source": [
    "import hashlib\n",
    "\n",
    "from datetime import datetime"
   ]
  },
  {
   "cell_type": "code",
   "execution_count": null,
   "metadata": {},
   "outputs": [],
   "source": [
    "class Block:\n",
    "\n",
    "    def __init__(self,data,timestamp,previous_hash):      \n",
    "      self.timestamp = timestamp     \n",
    "      self.data = data\n",
    "      self.previous_hash = previous_hash\n",
    "      self.hash = self.calc_hash()\n",
    "        \n",
    "    def calc_hash(self):\n",
    "      sha = hashlib.sha256()\n",
    "      hash_str =str(self.data).encode('utf-8') + str(self.timestamp).encode('utf-8') + str(self.previous_hash).encode('utf-8')\n",
    "      sha.update(hash_str)\n",
    "      return sha.hexdigest()\n",
    "\n",
    "class Blockchain(object):\n",
    "    def __init__(self):\n",
    "        self.tail = None\n",
    "        \n",
    "    def append(self,data):\n",
    "        # append a new value to the blockchain\"\n",
    "        print(\" i called append\")\n",
    "        if self.tail is None:\n",
    "            # the self.tail will have the properties of the class called Block\n",
    "            self.tail = Block(data=data, timestamp =datetime.now(), previous_hash = None)\n",
    "            print(self.tail)\n",
    "            # the first tail has no previous hash\n",
    "        # we got a first tail\n",
    "        else:\n",
    "            self.tail = Block(data=data, timestamp =datetime.now(), previous_hash = self.tail)\n",
    "            print(self.tail)\n",
    "            \n",
    "    def make_it_list(self):\n",
    "        # the blockchain data shall become a list\n",
    "        list = []\n",
    "        block = self.tail\n",
    "        while block:\n",
    "            list.append([block.data, block.timestamp, block.hash])\n",
    "        return list\n",
    "            \n"
   ]
  },
  {
   "cell_type": "code",
   "execution_count": null,
   "metadata": {},
   "outputs": [],
   "source": [
    "#test case\n",
    "bl = Blockchain()\n",
    "bl.append(\"hansfranz\")\n",
    "bl.append(\"bla\")\n",
    "bl.append(\"pengyou\")\n",
    "\n",
    "print(bl.append(\"hansfranz\"))\n",
    "print(bl.append(\"bla\"))\n",
    "print(bl.append(\"pengyou\"))\n",
    "print(bl.make_it_list())\n",
    "\n",
    "\n"
   ]
  },
  {
   "cell_type": "code",
   "execution_count": null,
   "metadata": {},
   "outputs": [],
   "source": []
  }
 ],
 "metadata": {
  "kernelspec": {
   "display_name": "Python 3",
   "language": "python",
   "name": "python3"
  },
  "language_info": {
   "codemirror_mode": {
    "name": "ipython",
    "version": 3
   },
   "file_extension": ".py",
   "mimetype": "text/x-python",
   "name": "python",
   "nbconvert_exporter": "python",
   "pygments_lexer": "ipython3",
   "version": "3.7.0"
  }
 },
 "nbformat": 4,
 "nbformat_minor": 2
}
