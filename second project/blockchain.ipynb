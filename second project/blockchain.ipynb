{
 "cells": [
  {
   "cell_type": "markdown",
   "metadata": {},
   "source": [
    "enteblockchain problem "
   ]
  },
  {
   "cell_type": "markdown",
   "metadata": {},
   "source": [
    "Blockchain\n",
    "A Blockchain is a sequential chain of records, similar to a linked list. Each block contains some information and how it is connected related to the other blocks in the chain. Each block contains a cryptographic hash of the previous block, a timestamp, and transaction data. For our blockchain we will be using a SHA-256 hash, the Greenwich Mean Time when the block was created, and text strings as the data."
   ]
  },
  {
   "cell_type": "code",
   "execution_count": 4,
   "metadata": {},
   "outputs": [],
   "source": [
    "import hashlib\n",
    "import datetime"
   ]
  },
  {
   "cell_type": "code",
   "execution_count": 5,
   "metadata": {},
   "outputs": [],
   "source": [
    "class Block:\n",
    "\n",
    "    def __init__(self,data,timestamp,previous_hash):      \n",
    "        self.timestamp = timestamp     \n",
    "        self.data = data\n",
    "        self.previous_hash = previous_hash\n",
    "        self.hash = self.calc_hash(data)\n",
    "        self.next = None \n",
    "        \n",
    "    def calc_hash(self,data):\n",
    "      sha = hashlib.sha256()\n",
    "      hash_str =str(self.data).encode('utf-8') + str(self.timestamp).encode('utf-8') + str(self.previous_hash).encode('utf-8')\n",
    "      sha.update(hash_str)\n",
    "      return sha.hexdigest()\n",
    "\n",
    "class Blockchain(object):\n",
    "    def __init__(self):\n",
    "        self.tail = None\n",
    "        self.head = None \n",
    "        self.size = 0        \n",
    "        \n",
    "    def append(self, data):\n",
    "        if data is None:\n",
    "            return        \n",
    "        node = self.head \n",
    "        self.size += 1\n",
    "\n",
    "        if node is None:\n",
    "            block = Block(data, datetime.datetime.now(), None)\n",
    "            self.head = block\n",
    "            self.tail = block \n",
    "        else:\n",
    "            self.tail.next =  Block(data, datetime.datetime.now(),node.hash)\n",
    "            self.tail = self.tail.next            \n",
    "            \n",
    "            \n",
    "    def print(self):\n",
    "        curr = self.head\n",
    "        while curr:\n",
    "            print(curr.data, curr.timestamp, curr.previous_hash)\n",
    "            curr = curr.next  \n",
    "\n"
   ]
  },
  {
   "cell_type": "code",
   "execution_count": 6,
   "metadata": {},
   "outputs": [
    {
     "name": "stdout",
     "output_type": "stream",
     "text": [
      "ente 2019-11-30 11:25:09.037420 None\n"
     ]
    }
   ],
   "source": [
    "test= Blockchain()\n",
    "test.append(\"ente\")\n",
    "test.print()\n",
    "\n",
    "\n",
    "\n",
    "\n",
    "\n"
   ]
  },
  {
   "cell_type": "markdown",
   "metadata": {},
   "source": [
    "\n",
    "# Test Case\n",
    "test = Blockchain()\n",
    "test.append('testdata for 1')\n",
    "test.append('testdata for 2')\n",
    "test.append('testdata for 3')\n",
    "test.append(None)\n",
    "\n",
    "\n",
    "print(test.Block)\n",
    "\n",
    "\n",
    "# the head is data for a\n",
    "\n",
    "print(chain.head.next)\n",
    "\n",
    "b = chain.head.next\n",
    "c = chain.head.next.next\n",
    "\n",
    "print(b.hash == c.previous_hash)\n",
    "# the outcome must be True, as the the new hash is the previous hash\n",
    "\n",
    "print(c.data)\n",
    "# data for c\n",
    "\n",
    "# edge case \n",
    "d = chain.head.next.next.next\n",
    "print(c.hash ==d.previous_hash)\n",
    "# must produce an error as the last test.append, was NONE\n",
    "\n",
    "\n",
    "\n"
   ]
  },
  {
   "cell_type": "code",
   "execution_count": null,
   "metadata": {},
   "outputs": [],
   "source": []
  }
 ],
 "metadata": {
  "kernelspec": {
   "display_name": "Python 3",
   "language": "python",
   "name": "python3"
  },
  "language_info": {
   "codemirror_mode": {
    "name": "ipython",
    "version": 3
   },
   "file_extension": ".py",
   "mimetype": "text/x-python",
   "name": "python",
   "nbconvert_exporter": "python",
   "pygments_lexer": "ipython3",
   "version": "3.7.0"
  }
 },
 "nbformat": 4,
 "nbformat_minor": 2
}
