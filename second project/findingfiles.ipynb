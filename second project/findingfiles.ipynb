{
 "cells": [
  {
   "cell_type": "code",
   "execution_count": null,
   "metadata": {},
   "outputs": [],
   "source": [
    "# Finding Files"
   ]
  },
  {
   "cell_type": "code",
   "execution_count": 1,
   "metadata": {},
   "outputs": [],
   "source": [
    "# issue a new list. we will store all our files here. \n",
    "foundfiles = [] \n",
    "\n",
    "def find_files(suffix, path):\n",
    "    \"\"\"\n",
    "    Find all files beneath path with file name suffix.\n",
    "\n",
    "    Note that a path may contain further subdirectories\n",
    "    and those subdirectories may also contain further subdirectories.\n",
    "\n",
    "    There are no limit to the depth of the subdirectories can be.\n",
    "\n",
    "    Args:\n",
    "      suffix(str): suffix if the file name to be found\n",
    "      path(str): path of the file system\n",
    "\n",
    "    Returns:\n",
    "       a list of paths\n",
    "    \"\"\"\n",
    "    #https://www.pythonforbeginners.com/os/pythons-os-module.\n",
    "    # we will try it with recursion. \n",
    "    \n",
    "    for item in os.listdir(path):\n",
    "        new_path = os.path.join(path,item)\n",
    "        if os.path.isfile(new_path) and new_path.endswith(suffix):\n",
    "            files.append(new_path)\n",
    "        elif os.path.isdir(new_path):\n",
    "            find_files(new_path,suffix)                  \n",
    "    return foundfiles\n",
    "\n",
    "\n"
   ]
  },
  {
   "cell_type": "code",
   "execution_count": null,
   "metadata": {},
   "outputs": [],
   "source": []
  }
 ],
 "metadata": {
  "kernelspec": {
   "display_name": "Python 3",
   "language": "python",
   "name": "python3"
  },
  "language_info": {
   "codemirror_mode": {
    "name": "ipython",
    "version": 3
   },
   "file_extension": ".py",
   "mimetype": "text/x-python",
   "name": "python",
   "nbconvert_exporter": "python",
   "pygments_lexer": "ipython3",
   "version": "3.7.0"
  }
 },
 "nbformat": 4,
 "nbformat_minor": 2
}
