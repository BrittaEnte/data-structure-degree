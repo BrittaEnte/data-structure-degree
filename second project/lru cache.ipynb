{
 "cells": [
  {
   "cell_type": "markdown",
   "metadata": {},
   "source": [
    "i used an orderedDict, because\n",
    "Algorithmically, OrderedDict can handle frequent reordering operations better than dict. This makes it suitable for tracking recent accesses (for example in an LRU cache)\n",
    "https://docs.python.org/3/library/collections.html#collections.OrderedDict.popitem\n",
    "\n"
   ]
  },
  {
   "cell_type": "code",
   "execution_count": 71,
   "metadata": {},
   "outputs": [
    {
     "name": "stdout",
     "output_type": "stream",
     "text": [
      "OrderedDict()\n"
     ]
    },
    {
     "ename": "TypeError",
     "evalue": "'collections.OrderedDict' object is not callable",
     "output_type": "error",
     "traceback": [
      "\u001b[1;31m---------------------------------------------------------------------------\u001b[0m",
      "\u001b[1;31mTypeError\u001b[0m                                 Traceback (most recent call last)",
      "\u001b[1;32m<ipython-input-71-b51325312c9d>\u001b[0m in \u001b[0;36m<module>\u001b[1;34m()\u001b[0m\n\u001b[0;32m     73\u001b[0m \u001b[1;33m\u001b[0m\u001b[0m\n\u001b[0;32m     74\u001b[0m \u001b[0mour_cache\u001b[0m\u001b[1;33m.\u001b[0m\u001b[0mget\u001b[0m\u001b[1;33m(\u001b[0m\u001b[1;36m11\u001b[0m\u001b[1;33m)\u001b[0m       \u001b[1;31m# returns 1\u001b[0m\u001b[1;33m\u001b[0m\u001b[0m\n\u001b[1;32m---> 75\u001b[1;33m \u001b[0mour_cache\u001b[0m\u001b[1;33m.\u001b[0m\u001b[0mget\u001b[0m\u001b[1;33m(\u001b[0m\u001b[1;36m2\u001b[0m\u001b[1;33m)\u001b[0m       \u001b[1;31m# returns 2\u001b[0m\u001b[1;33m\u001b[0m\u001b[0m\n\u001b[0m\u001b[0;32m     76\u001b[0m \u001b[0mour_cache\u001b[0m\u001b[1;33m.\u001b[0m\u001b[0mget\u001b[0m\u001b[1;33m(\u001b[0m\u001b[1;36m9\u001b[0m\u001b[1;33m)\u001b[0m      \u001b[1;31m# returns -1 because 9 is not present in the cache\u001b[0m\u001b[1;33m\u001b[0m\u001b[0m\n\u001b[0;32m     77\u001b[0m \u001b[1;33m\u001b[0m\u001b[0m\n",
      "\u001b[1;32m<ipython-input-71-b51325312c9d>\u001b[0m in \u001b[0;36mget\u001b[1;34m(self, key)\u001b[0m\n\u001b[0;32m     39\u001b[0m     \u001b[1;32mdef\u001b[0m \u001b[0mget\u001b[0m\u001b[1;33m(\u001b[0m\u001b[0mself\u001b[0m\u001b[1;33m,\u001b[0m\u001b[0mkey\u001b[0m\u001b[1;33m)\u001b[0m\u001b[1;33m:\u001b[0m\u001b[1;33m\u001b[0m\u001b[0m\n\u001b[0;32m     40\u001b[0m         \u001b[1;32mif\u001b[0m \u001b[0mkey\u001b[0m \u001b[1;32min\u001b[0m \u001b[0mself\u001b[0m\u001b[1;33m.\u001b[0m\u001b[0mhash\u001b[0m\u001b[1;33m:\u001b[0m\u001b[1;33m\u001b[0m\u001b[0m\n\u001b[1;32m---> 41\u001b[1;33m               \u001b[1;32mreturn\u001b[0m \u001b[0mself\u001b[0m\u001b[1;33m.\u001b[0m\u001b[0mhash\u001b[0m\u001b[1;33m(\u001b[0m\u001b[0mkey\u001b[0m\u001b[1;33m)\u001b[0m\u001b[1;33m\u001b[0m\u001b[0m\n\u001b[0m\u001b[0;32m     42\u001b[0m         \u001b[1;32melse\u001b[0m\u001b[1;33m:\u001b[0m\u001b[1;33m\u001b[0m\u001b[0m\n\u001b[0;32m     43\u001b[0m               \u001b[1;32mreturn\u001b[0m \u001b[1;33m-\u001b[0m\u001b[1;36m1\u001b[0m\u001b[1;33m\u001b[0m\u001b[0m\n",
      "\u001b[1;31mTypeError\u001b[0m: 'collections.OrderedDict' object is not callable"
     ]
    }
   ],
   "source": [
    "#implement class node \n",
    "from collections import OrderedDict \n",
    "class Node:\n",
    "    def __init__(self, key, value):\n",
    "        self.key = key\n",
    "        self.value = value\n",
    "        self.next = None\n",
    "        self.prev = None\n",
    "\n",
    "#implement class lru cache\n",
    "class LRU_Cache(object):\n",
    "    def __init__(self, capacity):\n",
    "        # Initialize class variables\n",
    "        self.capacity = capacity # given in the instructions      \n",
    "        self.hash = OrderedDict() # implement an ordered dict. \n",
    "        print (self.hash)\n",
    "        #set tail and head\n",
    "        self.head = Node(0, 0)\n",
    "        self.tail = Node(0, 0)    \n",
    "           \n",
    "\n",
    "    def set (self, key, value):\n",
    "        # Set the value if the key is not present in the cache. \n",
    "        #If the cache is at capacity remove the oldest item.      \n",
    "        #print(f\"capacity before {self.capacity} and len {len(self.hash)}\")    \n",
    "        # If in the cache are more than 5 items, remove the last node.\n",
    "        if len(self.hash) >= self.capacity:\n",
    "            #print(f\"capacity to big {self.capacity} and len {len(self.hash)}\")\n",
    "            #https://docs.python.org/3/library/collections.html#collections.OrderedDict\n",
    "            self.hash.popitem(last=False)                   \n",
    "        # set new value if key is not present\n",
    "        #https://stackoverflow.com/questions/42315072/python-update-a-key-in-dict-if-it-doesnt-exist\n",
    "        if key not in self.hash.keys():\n",
    "           node = Node(key, value)\n",
    "           self.hash[key] = node\n",
    "           node.value = value     \n",
    "           #print ( f\"nodevalue for our function set {node.value} and the node key {node.key}\")\n",
    "     \n",
    "    def get(self,key):\n",
    "        if key in self.hash:\n",
    "              return self.hash(key) \n",
    "        else:\n",
    "              return -1    \n",
    "    \n",
    "    #test function to take a look at the complete dict. \n",
    "    def drucke(self):           \n",
    "        for key,value in self.hash.items():\n",
    "            node = Node(key, value)            \n",
    "            print(node.key)\n",
    "            \n",
    "            \n",
    "'''\n",
    "    def get(self, key):\n",
    "        print (\"i called get function, but no results\")\n",
    "        # Retrieve item from provided key. Return -1 if nonexistent. \n",
    "        #https://www.geeksforgeeks.org/python-check-whether-given-key-already-exists-in-a-dictionary/\n",
    "        if key not in self.hash: \n",
    "                return -1\n",
    "            \n",
    "        #https://www.tutorialspoint.com/python/dictionary_get.htm   \n",
    "        if key in self.hash:           \n",
    "            return self.hash.get(key)     \n",
    "'''             \n",
    "\n",
    "our_cache = LRU_Cache(5)\n",
    "\n",
    "our_cache.set(1, 1);\n",
    "our_cache.set(2, 2);\n",
    "our_cache.set(3, 3);\n",
    "our_cache.set(4, 4);\n",
    "\n",
    "\n",
    "\n",
    "our_cache.get(11)       # returns 1\n",
    "our_cache.get(2)       # returns 2\n",
    "our_cache.get(9)      # returns -1 because 9 is not present in the cache\n",
    "\n",
    "our_cache.set(5, 5) \n",
    "our_cache.set(6, 6)\n",
    "our_cache.set(7,7)\n",
    "our_cache.set(8,8)\n",
    "our_cache.drucke()\n",
    "\n",
    "our_cache.get(3)      # returns -1 because the cache reached it's capacity and 3 was the least recently used entry\n"
   ]
  },
  {
   "cell_type": "code",
   "execution_count": null,
   "metadata": {},
   "outputs": [],
   "source": []
  }
 ],
 "metadata": {
  "kernelspec": {
   "display_name": "Python 3",
   "language": "python",
   "name": "python3"
  },
  "language_info": {
   "codemirror_mode": {
    "name": "ipython",
    "version": 3
   },
   "file_extension": ".py",
   "mimetype": "text/x-python",
   "name": "python",
   "nbconvert_exporter": "python",
   "pygments_lexer": "ipython3",
   "version": "3.7.0"
  }
 },
 "nbformat": 4,
 "nbformat_minor": 2
}
