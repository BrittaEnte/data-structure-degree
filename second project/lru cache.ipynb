{
 "cells": [
  {
   "cell_type": "code",
   "execution_count": 1,
   "metadata": {},
   "outputs": [
    {
     "ename": "KeyError",
     "evalue": "1",
     "output_type": "error",
     "traceback": [
      "\u001b[1;31m---------------------------------------------------------------------------\u001b[0m",
      "\u001b[1;31mKeyError\u001b[0m                                  Traceback (most recent call last)",
      "\u001b[1;32m<ipython-input-1-361cca580542>\u001b[0m in \u001b[0;36m<module>\u001b[1;34m()\u001b[0m\n\u001b[0;32m     46\u001b[0m \u001b[0mour_cache\u001b[0m \u001b[1;33m=\u001b[0m \u001b[0mLRU_Cache\u001b[0m\u001b[1;33m(\u001b[0m\u001b[1;36m5\u001b[0m\u001b[1;33m)\u001b[0m\u001b[1;33m\u001b[0m\u001b[0m\n\u001b[0;32m     47\u001b[0m \u001b[1;33m\u001b[0m\u001b[0m\n\u001b[1;32m---> 48\u001b[1;33m \u001b[0mour_cache\u001b[0m\u001b[1;33m.\u001b[0m\u001b[0mseta\u001b[0m\u001b[1;33m(\u001b[0m\u001b[1;36m1\u001b[0m\u001b[1;33m,\u001b[0m \u001b[1;36m1\u001b[0m\u001b[1;33m)\u001b[0m\u001b[1;33m;\u001b[0m\u001b[1;33m\u001b[0m\u001b[0m\n\u001b[0m\u001b[0;32m     49\u001b[0m \u001b[0mour_cache\u001b[0m\u001b[1;33m.\u001b[0m\u001b[0mseta\u001b[0m\u001b[1;33m(\u001b[0m\u001b[1;36m2\u001b[0m\u001b[1;33m,\u001b[0m \u001b[1;36m2\u001b[0m\u001b[1;33m)\u001b[0m\u001b[1;33m;\u001b[0m\u001b[1;33m\u001b[0m\u001b[0m\n\u001b[0;32m     50\u001b[0m \u001b[0mour_cache\u001b[0m\u001b[1;33m.\u001b[0m\u001b[0mseta\u001b[0m\u001b[1;33m(\u001b[0m\u001b[1;36m3\u001b[0m\u001b[1;33m,\u001b[0m \u001b[1;36m3\u001b[0m\u001b[1;33m)\u001b[0m\u001b[1;33m;\u001b[0m\u001b[1;33m\u001b[0m\u001b[0m\n",
      "\u001b[1;32m<ipython-input-1-361cca580542>\u001b[0m in \u001b[0;36mseta\u001b[1;34m(self, key, value)\u001b[0m\n\u001b[0;32m     38\u001b[0m         \u001b[1;31m# set new value if key is not present\u001b[0m\u001b[1;33m\u001b[0m\u001b[1;33m\u001b[0m\u001b[0m\n\u001b[0;32m     39\u001b[0m         \u001b[1;32mif\u001b[0m \u001b[0mkey\u001b[0m \u001b[1;32mnot\u001b[0m \u001b[1;32min\u001b[0m \u001b[0mself\u001b[0m\u001b[1;33m.\u001b[0m\u001b[0mhash\u001b[0m\u001b[1;33m:\u001b[0m\u001b[1;33m\u001b[0m\u001b[0m\n\u001b[1;32m---> 40\u001b[1;33m            \u001b[0mnode\u001b[0m \u001b[1;33m=\u001b[0m \u001b[0mself\u001b[0m\u001b[1;33m.\u001b[0m\u001b[0mhash\u001b[0m\u001b[1;33m[\u001b[0m\u001b[0mkey\u001b[0m\u001b[1;33m]\u001b[0m\u001b[1;33m\u001b[0m\u001b[0m\n\u001b[0m\u001b[0;32m     41\u001b[0m            \u001b[0mnode\u001b[0m\u001b[1;33m.\u001b[0m\u001b[0mvalue\u001b[0m \u001b[1;33m=\u001b[0m \u001b[0mvalue\u001b[0m\u001b[1;33m\u001b[0m\u001b[0m\n\u001b[0;32m     42\u001b[0m \u001b[1;33m\u001b[0m\u001b[0m\n",
      "\u001b[1;31mKeyError\u001b[0m: 1"
     ]
    }
   ],
   "source": [
    "#implement class node \n",
    "class Node:\n",
    "    def __init__(self, key, value):\n",
    "        self.key = key\n",
    "        self.value = value\n",
    "        self.next = None\n",
    "        self.prev = None\n",
    "\n",
    "#implement class lru cache\n",
    "class LRU_Cache(object):\n",
    "    def __init__(self, capacity):\n",
    "        # Initialize class variables\n",
    "        self.capacity = 5 # given in the instructions \n",
    "        self.hash = dict() # implement a dict. ### HIER ORDER DICTIONARY SETZEN \n",
    "        #set tail and head\n",
    "        self.head = Node(0, 0)\n",
    "        self.tail = Node(0, 0)\n",
    "\n",
    "    def get(self, key):\n",
    "        # Retrieve item from provided key. Return -1 if nonexistent. \n",
    "        #https://www.geeksforgeeks.org/python-check-whether-given-key-already-exists-in-a-dictionary/\n",
    "         if key not in self.hash: \n",
    "                return -1\n",
    "            \n",
    "         #https://www.tutorialspoint.com/python/dictionary_get.htm   \n",
    "         if key in self.hash:\n",
    "            return self.hash.get(key)           \n",
    " \n",
    "    def seta(self, key, value):\n",
    "        # Set the value if the key is not present in the cache. \n",
    "        #If the cache is at capacity remove the oldest item.      \n",
    "        \n",
    "        \n",
    "        # If in the cache are more than 5 items, remove the last node.\n",
    "        if len(self.hash) > self.capacity:\n",
    "            self.hash.pop(5)  #https://www.geeksforgeeks.org/python-dictionary/  \n",
    "            \n",
    "        # set new value if key is not present\n",
    "        if key not in self.hash:\n",
    "           node = self.hash[key]\n",
    "           node.value = value          \n",
    "        \n",
    "            \n",
    "            \n",
    "\n",
    "our_cache = LRU_Cache(5)\n",
    "\n",
    "our_cache.seta(1, 1);\n",
    "our_cache.seta(2, 2);\n",
    "our_cache.seta(3, 3);\n",
    "our_cache.seta(4, 4);\n",
    "\n",
    "\n",
    "our_cache.get(1)       # returns 1\n",
    "our_cache.get(2)       # returns 2\n",
    "our_cache.get(9)      # returns -1 because 9 is not present in the cache\n",
    "\n",
    "our_cache.seta(5, 5) \n",
    "our_cache.seta(6, 6)\n",
    "\n",
    "our_cache.get(3)      # returns -1 because the cache reached it's capacity and 3 was the least recently used entry\n"
   ]
  },
  {
   "cell_type": "code",
   "execution_count": null,
   "metadata": {},
   "outputs": [],
   "source": []
  }
 ],
 "metadata": {
  "kernelspec": {
   "display_name": "Python 3",
   "language": "python",
   "name": "python3"
  },
  "language_info": {
   "codemirror_mode": {
    "name": "ipython",
    "version": 3
   },
   "file_extension": ".py",
   "mimetype": "text/x-python",
   "name": "python",
   "nbconvert_exporter": "python",
   "pygments_lexer": "ipython3",
   "version": "3.7.0"
  }
 },
 "nbformat": 4,
 "nbformat_minor": 2
}
