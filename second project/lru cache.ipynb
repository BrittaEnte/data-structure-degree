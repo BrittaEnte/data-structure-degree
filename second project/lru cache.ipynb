{
 "cells": [
  {
   "cell_type": "markdown",
   "metadata": {},
   "source": [
    "i used an orderedDict, because\n",
    "Algorithmically, OrderedDict can handle frequent reordering operations better than dict. This makes it suitable for tracking recent accesses (for example in an LRU cache)\n",
    "https://docs.python.org/3/library/collections.html#collections.OrderedDict.popitem\n",
    "\n"
   ]
  },
  {
   "cell_type": "code",
   "execution_count": 15,
   "metadata": {},
   "outputs": [
    {
     "ename": "IndentationError",
     "evalue": "unexpected indent (<ipython-input-15-cf7703ad948a>, line 25)",
     "output_type": "error",
     "traceback": [
      "\u001b[1;36m  File \u001b[1;32m\"<ipython-input-15-cf7703ad948a>\"\u001b[1;36m, line \u001b[1;32m25\u001b[0m\n\u001b[1;33m    if key not in self.hash:\u001b[0m\n\u001b[1;37m    ^\u001b[0m\n\u001b[1;31mIndentationError\u001b[0m\u001b[1;31m:\u001b[0m unexpected indent\n"
     ]
    }
   ],
   "source": [
    "#implement class node \n",
    "from collections import OrderedDict \n",
    "class Node:\n",
    "    def __init__(self, key, value):\n",
    "        self.key = key\n",
    "        self.value = value\n",
    "        self.next = None\n",
    "        self.prev = None\n",
    "\n",
    "#implement class lru cache\n",
    "class LRU_Cache(object):\n",
    "    def __init__(self, capacity):\n",
    "        # Initialize class variables\n",
    "        self.capacity = 5 # given in the instructions      \n",
    "        self.hash = OrderedDict() # implement an order dict. \n",
    "        print (self.hash)\n",
    "        #set tail and head\n",
    "        self.head = Node(0, 0)\n",
    "        self.tail = Node(0, 0)\n",
    "\n",
    "    def get(self, key):\n",
    "        print (\"i called get function\")\n",
    "        # Retrieve item from provided key. Return -1 if nonexistent. \n",
    "        #https://www.geeksforgeeks.org/python-check-whether-given-key-already-exists-in-a-dictionary/\n",
    "        if key not in self.hash: \n",
    "                return -1\n",
    "            \n",
    "         #https://www.tutorialspoint.com/python/dictionary_get.htm   \n",
    "        if key in self.hash:\n",
    "            return self.hash.get(key)        \n",
    "            print (self.hash)\n",
    "            print (f\"get nodevalue {node.value} and nodekey {node.key}\")\n",
    "         \n",
    "    def seta(self, key, value):\n",
    "        # Set the value if the key is not present in the cache. \n",
    "        #If the cache is at capacity remove the oldest item.      \n",
    "        \n",
    "        \n",
    "        # If in the cache are more than 5 items, remove the last node.\n",
    "        if len(self.hash) > self.capacity:\n",
    "            print (f\"{len(self.hash)}\")\n",
    "            #https://docs.python.org/3/library/collections.html#collections.OrderedDict\n",
    "            self.hash.popitem()  #https://www.geeksforgeeks.org/python-dictionary/  \n",
    "            print (f\"popitem {self.hash.popitem()}\")\n",
    "            \n",
    "            \n",
    "        # set new value if key is not present\n",
    "        #https://stackoverflow.com/questions/42315072/python-update-a-key-in-dict-if-it-doesnt-exist\n",
    "        if key not in self.hash.keys():\n",
    "           node = Node(key, value)\n",
    "           self.hash[key] = node\n",
    "           node.value = value     \n",
    "           print ( f\"nodevalue for our function set {node.value} and the node key {node.key}\")\n",
    "   \n",
    "            \n",
    "            \n",
    "\n",
    "our_cache = LRU_Cache(5)\n",
    "\n",
    "our_cache.seta(1, 1);\n",
    "our_cache.seta(2, 2);\n",
    "our_cache.seta(3, 3);\n",
    "our_cache.seta(4, 4);\n",
    "\n",
    "\n",
    "our_cache.get(1)       # returns 1\n",
    "our_cache.get(2)       # returns 2\n",
    "our_cache.get(9)      # returns -1 because 9 is not present in the cache\n",
    "\n",
    "our_cache.seta(5, 5) \n",
    "our_cache.seta(6, 6)\n",
    "\n",
    "our_cache.get(3)      # returns -1 because the cache reached it's capacity and 3 was the least recently used entry\n"
   ]
  },
  {
   "cell_type": "code",
   "execution_count": null,
   "metadata": {},
   "outputs": [],
   "source": []
  }
 ],
 "metadata": {
  "kernelspec": {
   "display_name": "Python 3",
   "language": "python",
   "name": "python3"
  },
  "language_info": {
   "codemirror_mode": {
    "name": "ipython",
    "version": 3
   },
   "file_extension": ".py",
   "mimetype": "text/x-python",
   "name": "python",
   "nbconvert_exporter": "python",
   "pygments_lexer": "ipython3",
   "version": "3.7.0"
  }
 },
 "nbformat": 4,
 "nbformat_minor": 2
}
