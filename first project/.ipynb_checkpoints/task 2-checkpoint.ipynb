{
 "cells": [
  {
   "cell_type": "markdown",
   "metadata": {},
   "source": [
    "task 2 first project "
   ]
  },
  {
   "cell_type": "code",
   "execution_count": 6,
   "metadata": {},
   "outputs": [
    {
     "name": "stdout",
     "output_type": "stream",
     "text": [
      "(080)33251027 used the longest time, 90456 seconds on the phone during September 2016.\n"
     ]
    }
   ],
   "source": [
    "\"\"\"\n",
    "Read file into texts and calls.\n",
    "It's ok if you don't understand how to read files\n",
    "\"\"\"\n",
    "import csv\n",
    "with open('texts.csv', 'r') as f:\n",
    "    reader = csv.reader(f)\n",
    "    texts = list(reader)\n",
    "\n",
    "with open('calls.csv', 'r') as f:\n",
    "    reader = csv.reader(f)\n",
    "    calls = list(reader)\n",
    "\n",
    "\"\"\"\n",
    "TASK 2: Which telephone number spent the longest time on the phone\n",
    "during the period? Don't forget that time spent answering a call is\n",
    "also time spent on the phone.\n",
    "Print a message:\n",
    "\"<telephone number> spent the longest time, <total time> seconds, on the phone during \n",
    "September 2016.\".\n",
    "\"\"\"\n",
    "\n",
    "# input is the number called and the time spent\n",
    "# output is the number and the longest time spent\n",
    "\n",
    "#A dictionary is a collection which is unordered, changeable and indexed. \n",
    "#In Python dictionaries are written with curly brackets, and they have keys and values.\n",
    "\n",
    "nummern = dict()\n",
    "for i in range(len(calls)):\n",
    "    #This method return a value for the given key. If key is not available, then returns default value None.\n",
    "   \n",
    "    nummern[calls[i][1]] = nummern.get(calls[i][1], 0) + int(calls[i][-1])\n",
    "    nummern[calls[i][0]] = nummern.get(calls[i][0], 0) + int(calls[i][-1])    \n",
    "    \n",
    "# use a sorted list. reverse true must be otherwise it would start with the smallest number.\n",
    "\n",
    "#maxlist = max (nummern.values())\n",
    "\n",
    "Max_key = None\n",
    "Max_value = -9999\n",
    "for key in nummern:\n",
    "\tif nummern[key] > Max_value :\n",
    "\t\tMax_value  = nummern[key]\n",
    "\t\tMax_key  = key\n",
    "    \n",
    "#print statement     \n",
    "print(str(Max_key) + \" used the longest time, \" + str(Max_value) + \" seconds on the phone during September 2016.\")"
   ]
  },
  {
   "cell_type": "markdown",
   "metadata": {},
   "source": [
    "\n",
    "\n"
   ]
  },
  {
   "cell_type": "code",
   "execution_count": null,
   "metadata": {},
   "outputs": [],
   "source": []
  }
 ],
 "metadata": {
  "kernelspec": {
   "display_name": "Python 3",
   "language": "python",
   "name": "python3"
  },
  "language_info": {
   "codemirror_mode": {
    "name": "ipython",
    "version": 3
   },
   "file_extension": ".py",
   "mimetype": "text/x-python",
   "name": "python",
   "nbconvert_exporter": "python",
   "pygments_lexer": "ipython3",
   "version": "3.7.0"
  }
 },
 "nbformat": 4,
 "nbformat_minor": 2
}
