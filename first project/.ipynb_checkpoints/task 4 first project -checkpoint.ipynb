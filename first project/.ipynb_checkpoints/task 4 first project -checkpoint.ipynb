{
 "cells": [
  {
   "cell_type": "code",
   "execution_count": 9,
   "metadata": {},
   "outputs": [
    {
     "name": "stdout",
     "output_type": "stream",
     "text": [
      "this are the numbers that are maybe involved in telemarketing {'(022)28765220', '(011)21017178', '(044)27641880', '(080)41712046', '(022)47410783', '1404073047', '1407539117', '78136 54214', '(080)47459867', '1409668775', '(022)65548497', '(080)66955387', '98442 73671', '(0471)4255177', '(022)34715405', '92423 51078', '78291 94593', '(080)49328664', '90351 90193', '(080)30231886', '(080)68739140', '1400481538', '1409994233', '(080)41203315', '90193 61937', '93430 54160', '(080)62963633', '87149 75762', '93427 40118', '(04344)649705', '74292 23928', '(0821)2135265', '98447 62998', '93426 76415', '(040)30429041', '(0821)3602212', '78993 89387', '(08214175)358', '98444 63396', '97404 90013', '(080)65275591', '(080)32679828', '(080)60998034', '(044)22020822', '(080)67362492', '1408409918', '1408672243', '97418 59299', '(080)44046839', '(04546)218519', '87144 55014', '(080)43685310', '(080)40362016', '1408371942', '(080)46772413', '(022)69042431', '(022)40840621', '89071 50880', '(080)64047472', '(0471)2953539', '(080)24444677', '(080)43215621', '94495 03761', '87144 42283', '(080)40929452', '(080)20383942', '(080)41336994', '90197 38885', '(044)45838604', '(080)64015211', '(080)43901222', '(080)35986130', '(0471)6579079', '(033)25441815', '(080)39755879', '96569 95359', '98458 94162', '78135 69048', '97404 30456', '1409421631', '(080)63623429', '92414 69419', '(080)33277651', '(0471)2225098', '97407 84573', '(022)66911540', '(022)37572285', '1402316533', '(040)36649724', '(040)34008657', '(080)68104927', '1404368883', '78293 38561', '(080)49796269', '(040)26738737', '90085 20915', '(080)45687418', '(080)66044294', '(044)27523585', '90357 25284', '(080)43562014', '(080)45291968', '(022)28952819', '(040)66729318', '(044)41581342', '(080)44357306', '(080)40395498', '(080)25820765', '98457 75681', '(0821)3257740', '74064 66270', '(080)31863188', '(04546)267875', '(044)49868415', '(022)46574732', '(080)60062475', '92426 72402', '(080)31606520', '(044)20550065', '98448 88411', '(080)69887826', '(080)45547058', '(044)49481100', '(044)24037112', '(080)69609453', '97442 45192', '(022)38214945', '1403072432', '90196 73585', '(022)68535788', '(044)30360652', '90368 95100', '1404787681', '(080)60463379', '(080)44050207', '92426 65661', '(080)35987804', '84313 80377', '(080)20123809', '97427 87999', '(080)30270642', '(080)23802940', '94002 85593', '(0471)2171438', '1401747654', '(080)37913009', '(080)62164823', '(080)27498339', '90089 69682', '(080)64431120', '(04344)615310', '(080)34932254', '1403579926', '99617 25274', '(080)46702492'}\n"
     ]
    }
   ],
   "source": [
    "\"\"\"\n",
    "Read file into texts and calls.\n",
    "It's ok if you don't understand how to read files.\n",
    "\"\"\"\n",
    "import csv\n",
    "\n",
    "with open('texts.csv', 'r') as f:\n",
    "    reader = csv.reader(f)\n",
    "    texts = list(reader)\n",
    "\n",
    "with open('calls.csv', 'r') as f:\n",
    "    reader = csv.reader(f)\n",
    "    calls = list(reader)\n",
    "\n",
    "\"\"\"\n",
    "TASK 4:\n",
    "The telephone company want to identify numbers that might be doing\n",
    "telephone marketing. Create a set of possible telemarketers:\n",
    "these are numbers that make outgoing calls but never send texts,\n",
    "receive texts or receive incoming calls.\n",
    "\n",
    "Print a message:\n",
    "\"These numbers could be telemarketers: \"\n",
    "<list of numbers>\n",
    "The list of numbers should be print out one per line in lexicographic order with no duplicates.\n",
    "\"\"\"\n",
    "\n",
    "#A set is an unordered collection of items. \n",
    "#Every element is unique no duplicates, \n",
    "#so it is perfect to put all the telemarker numbers in it\n",
    "\n",
    "#issue a set \n",
    "marketing_numbers = set()\n",
    "for i in range(len(calls)):\n",
    "    #adding all outgoing numbers \n",
    "    marketing_numbers.add(calls[i][0])\n",
    "    # normally try and except is used to find mistake. now we try to remove i from the list.\n",
    "    try:\n",
    "        # deleting all the receiving numbers \n",
    "        marketing_numbers.remove(calls[i][1])\n",
    "    except:\n",
    "        continue\n",
    "\n",
    "for i in range(len(texts)):\n",
    "    try:\n",
    "        # the number never sends text\n",
    "        marketing_numbers.remove(texts[i][0])\n",
    "    except:\n",
    "        pass\n",
    "    try:\n",
    "        # the number never gets text\n",
    "        marketing_numbers.remove(texts[i][1])\n",
    "    except:\n",
    "        continue\n",
    "\n",
    "print(\"this are the numbers that are maybe involved in telemarketing \"+ str((marketing_numbers)))\n"
   ]
  },
  {
   "cell_type": "markdown",
   "metadata": {},
   "source": [
    "big O notation \n",
    "O(4n) all i must be checked 2times for the calls and 2times for the text file"
   ]
  }
 ],
 "metadata": {
  "kernelspec": {
   "display_name": "Python 3",
   "language": "python",
   "name": "python3"
  },
  "language_info": {
   "codemirror_mode": {
    "name": "ipython",
    "version": 3
   },
   "file_extension": ".py",
   "mimetype": "text/x-python",
   "name": "python",
   "nbconvert_exporter": "python",
   "pygments_lexer": "ipython3",
   "version": "3.7.0"
  }
 },
 "nbformat": 4,
 "nbformat_minor": 2
}
