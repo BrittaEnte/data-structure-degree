{
 "cells": [
  {
   "cell_type": "markdown",
   "metadata": {},
   "source": [
    "Problem Statement\n",
    "Define a procedure, deep_reverse, that takes as input a list, and returns a new list that is the deep reverse of the input list.\n",
    "This means it reverses all the elements in the list, and if any of those elements are lists themselves, reverses all the elements in the inner list, all the way down.\n",
    "\n",
    "Note: The procedure must not change the input list itself.\n",
    "\n",
    "arr = [1, 2, 3, 4, 5]\n",
    "solution = [5, 4, 3, 2, 1]\n"
   ]
  },
  {
   "cell_type": "markdown",
   "metadata": {},
   "source": [
    "Python isinstance()\n",
    "The isinstance() function checks if the object (first argument) is an instance or subclass of classinfo class (second argument).\n",
    "\n",
    "isinstance(object, classinfo)"
   ]
  },
  {
   "cell_type": "code",
   "execution_count": 1,
   "metadata": {},
   "outputs": [],
   "source": [
    "def is_list(element):\n",
    "    \"\"\"\n",
    "    Check if element is a Python list\n",
    "    \"\"\"\n",
    "    return isinstance(element, list)\n",
    "\n",
    "def deep_reverse(arr):\n",
    "    \"\"\"\n",
    "    Function to deep_reverse an input list\n",
    "    \"\"\"\n",
    "    return deep_reverse_func(arr, 0)\n",
    "\n",
    "def deep_reverse_func(arr, index):\n",
    "    \"\"\"\n",
    "    Recursive function to deep_reverse the input list\n",
    "    \"\"\"\n",
    "    # Base Case\n",
    "    if index == len(arr):\n",
    "        return list()\n",
    "    \n",
    "    output = deep_reverse_func(arr, index + 1)\n",
    "    \n",
    "    # if element is a list --> deep_reverse the list\n",
    "    if is_list(arr[index]):\n",
    "        to_append = deep_reverse(arr[index])\n",
    "    else:\n",
    "        to_append = arr[index]\n",
    "        \n",
    "    output.append(to_append)\n",
    "    return output"
   ]
  },
  {
   "cell_type": "code",
   "execution_count": 8,
   "metadata": {},
   "outputs": [
    {
     "data": {
      "text/plain": [
       "[4, [9, 8], 1]"
      ]
     },
     "execution_count": 8,
     "metadata": {},
     "output_type": "execute_result"
    }
   ],
   "source": [
    "def is_list(p): \n",
    "    return isinstance(p, list)\n",
    "\n",
    "def deep_reverse(mylist):\n",
    "    result = []\n",
    "    for e in mylist:\n",
    "        if isinstance(e, list):\n",
    "            result.append(deep_reverse(e))\n",
    "        else:\n",
    "            result.append(e)\n",
    "    result.reverse()\n",
    "    return result\n",
    "\n",
    "\n",
    "deep_reverse([1,[8,9],4])\n"
   ]
  },
  {
   "cell_type": "code",
   "execution_count": null,
   "metadata": {},
   "outputs": [],
   "source": []
  }
 ],
 "metadata": {
  "kernelspec": {
   "display_name": "Python 3",
   "language": "python",
   "name": "python3"
  },
  "language_info": {
   "codemirror_mode": {
    "name": "ipython",
    "version": 3
   },
   "file_extension": ".py",
   "mimetype": "text/x-python",
   "name": "python",
   "nbconvert_exporter": "python",
   "pygments_lexer": "ipython3",
   "version": "3.7.0"
  }
 },
 "nbformat": 4,
 "nbformat_minor": 2
}
