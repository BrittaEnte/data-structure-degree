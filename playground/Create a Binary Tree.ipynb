{
 "cells": [
  {
   "cell_type": "markdown",
   "metadata": {},
   "source": [
    "Create a Binary Tree"
   ]
  },
  {
   "cell_type": "code",
   "execution_count": 38,
   "metadata": {},
   "outputs": [],
   "source": [
    "## Define a node\n",
    "class Node(object): \n",
    "    def __init__(self):\n",
    "        self.value = None\n",
    "        self.left = None\n",
    "        self.right = None\n",
    "                \n",
    "    "
   ]
  },
  {
   "cell_type": "markdown",
   "metadata": {},
   "source": [
    "Task 02: add a constructor that takes the value as a parameter¶\n",
    "Copy what you just made, and modify the constructor so that it takes in an optional value, which it assigns as the node's value. Otherwise, it sets the node's value to None."
   ]
  },
  {
   "cell_type": "code",
   "execution_count": 39,
   "metadata": {},
   "outputs": [],
   "source": [
    "# as a constructor the node looks like\n",
    "class Node(object):\n",
    "    def __init__(self, value= None):\n",
    "        self.value = value\n",
    "        self.left = None\n",
    "        self.right = None "
   ]
  },
  {
   "cell_type": "code",
   "execution_count": 40,
   "metadata": {},
   "outputs": [
    {
     "name": "stdout",
     "output_type": "stream",
     "text": [
      "duck\n"
     ]
    }
   ],
   "source": [
    "node = Node(\"duck\")\n",
    "print (node.value)"
   ]
  },
  {
   "cell_type": "code",
   "execution_count": 41,
   "metadata": {},
   "outputs": [],
   "source": [
    "# task 3: add function to set and get the value of the node\n",
    "class Node(object):\n",
    "    def __init__(self, value= None):\n",
    "        self.value = value\n",
    "        self.left = None\n",
    "        self.right = None \n",
    "        \n",
    "    def get_value(self):\n",
    "        return self.value\n",
    "    \n",
    "    def set_value(self, value):\n",
    "        self.value = value"
   ]
  },
  {
   "cell_type": "code",
   "execution_count": 42,
   "metadata": {},
   "outputs": [],
   "source": [
    "# task 4 add functions that assign a left and a right child\n",
    "class Node(object):\n",
    "    def __init__(self, value= None):\n",
    "        self.value = value\n",
    "        self.left = None\n",
    "        self.right = None \n",
    "        \n",
    "    def get_value(self):\n",
    "        return self.value\n",
    "    \n",
    "    def set_value(self, value):\n",
    "        self.value = value\n",
    "        \n",
    "    def set_leftchild(self, node):\n",
    "        self.left = node\n",
    "        \n",
    "    def set_rightchild(self, node):\n",
    "        self.right = node  \n",
    "        \n",
    "    def get_leftchild(self):\n",
    "        return self.left\n",
    "    \n",
    "    def get_rightchild(self):\n",
    "        return self.right\n",
    "    "
   ]
  },
  {
   "cell_type": "code",
   "execution_count": 55,
   "metadata": {},
   "outputs": [
    {
     "name": "stdout",
     "output_type": "stream",
     "text": [
      "<function Node.get_rightchild at 0x00000280F14D7598> <function Node.get_leftchild at 0x00000280F14D76A8>\n",
      "<bound method Node.get_rightchild of <__main__.Node object at 0x00000280F14E02E8>>\n",
      "left value: dog \n",
      "right value: elk \n"
     ]
    }
   ],
   "source": [
    "node0= Node(\"duck\")\n",
    "node1 = Node(\"dog\")\n",
    "node2 = Node (\"elk\")\n",
    "node0.set_leftchild(node1)\n",
    "node0.set_rightchild(node2)\n",
    "print (Node.get_rightchild, Node.get_leftchild)\n",
    "print (node0.get_rightchild)\n",
    "f\"right value: {node0.right.value} \"\n",
    "# ha scheiß auf das print statement\n",
    "f\"left value: {node0.left.value} \"\n",
    "# er schreibt aber nur den letzten satz hin. \n",
    "print (f\"left value: {node0.left.value} \")\n",
    "print (f\"right value: {node0.right.value} \")\n",
    "# also doch print statement. "
   ]
  },
  {
   "cell_type": "code",
   "execution_count": 51,
   "metadata": {},
   "outputs": [
    {
     "data": {
      "text/plain": [
       "'Hello, Eric. You are 74.'"
      ]
     },
     "execution_count": 51,
     "metadata": {},
     "output_type": "execute_result"
    }
   ],
   "source": [
    "#simple syntax\n",
    "name = \"Eric\"\n",
    "age = 74\n",
    "f\"Hello, {name}. You are {age}.\"\n",
    "'Hello, Eric. You are 74.'\n",
    "#It would also be valid to use a capital letter F:\n",
    "\n",
    "F\"Hello, {name}. You are {age}.\"\n",
    "'Hello, Eric. You are 74.'"
   ]
  },
  {
   "cell_type": "code",
   "execution_count": 48,
   "metadata": {},
   "outputs": [],
   "source": [
    "#check if left or right childs exists\n",
    "class Node(object):\n",
    "    def __init__(self, value= None):\n",
    "        self.value = value\n",
    "        self.left = None\n",
    "        self.right = None \n",
    "        \n",
    "    def get_value(self):\n",
    "        return self.value\n",
    "    \n",
    "    def set_value(self, value):\n",
    "        self.value = value\n",
    "        \n",
    "    def set_leftchild(self, node):\n",
    "        self.left = node\n",
    "        \n",
    "    def set_rightchild(self, node):\n",
    "        self.right = node  \n",
    "        \n",
    "    def get_leftchild(self):\n",
    "        return self.left\n",
    "    \n",
    "    def get_rightchild(self):\n",
    "        return self.right\n",
    "    \n",
    "    def has_left_child(self):\n",
    "        if self.left != None:\n",
    "            return True\n",
    "        else:\n",
    "            return False\n",
    "\n",
    "    def has_right_child(self):\n",
    "        if self.right != None:\n",
    "            return True\n",
    "        else:\n",
    "            return False"
   ]
  },
  {
   "cell_type": "code",
   "execution_count": 50,
   "metadata": {},
   "outputs": [
    {
     "name": "stdout",
     "output_type": "stream",
     "text": [
      " has node left child? True\n"
     ]
    }
   ],
   "source": [
    "print(f\" has node left child? {node0.has_left_child()}\")"
   ]
  },
  {
   "cell_type": "markdown",
   "metadata": {},
   "source": [
    "Task 07: setting root node in constructor\n",
    "Let's modify the Tree constructor so that it takes an input that initializes the root node. Choose between one of two options: 1) the constructor takes a Node object\n",
    "2) the constructor takes a value, then creates a new Node object using that value.\n",
    "\n",
    "Which do you think is better?"
   ]
  },
  {
   "cell_type": "code",
   "execution_count": 56,
   "metadata": {},
   "outputs": [],
   "source": [
    "class Tree(object):\n",
    "    def __init__(self):\n",
    "        self.root = None\n",
    "        \n",
    "    def get_root(self):\n",
    "        return self.root"
   ]
  },
  {
   "cell_type": "code",
   "execution_count": 57,
   "metadata": {},
   "outputs": [],
   "source": [
    "# die bessere lösung ist node(value)\n",
    "class Tree (object):\n",
    "    def __init(self, value):\n",
    "        self.root = Node(value)\n",
    "    \n",
    "    def get_root(self):\n",
    "        return self.root"
   ]
  },
  {
   "cell_type": "code",
   "execution_count": null,
   "metadata": {},
   "outputs": [],
   "source": []
  }
 ],
 "metadata": {
  "kernelspec": {
   "display_name": "Python 3",
   "language": "python",
   "name": "python3"
  },
  "language_info": {
   "codemirror_mode": {
    "name": "ipython",
    "version": 3
   },
   "file_extension": ".py",
   "mimetype": "text/x-python",
   "name": "python",
   "nbconvert_exporter": "python",
   "pygments_lexer": "ipython3",
   "version": "3.7.0"
  }
 },
 "nbformat": 4,
 "nbformat_minor": 2
}
