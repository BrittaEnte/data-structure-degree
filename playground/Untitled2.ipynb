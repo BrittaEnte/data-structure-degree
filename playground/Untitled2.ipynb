{
 "cells": [
  {
   "cell_type": "code",
   "execution_count": 1,
   "metadata": {},
   "outputs": [
    {
     "name": "stdout",
     "output_type": "stream",
     "text": [
      "eins   8\n",
      "zwei 8\n",
      "eins   10\n",
      "zwei 10\n",
      "eins   0\n",
      "eins   3\n",
      "zwei 3\n",
      "eins   7\n",
      "zwei 7\n",
      "eins   1\n",
      "[0, 1, 2, 7, 3, 10, 8]\n"
     ]
    }
   ],
   "source": [
    "\n",
    "def sort_a_little_bit(items):\n",
    "    left_index = 0\n",
    "    pivot_index = len(items) - 1\n",
    "    pivot_value = items[pivot_index]\n",
    "\n",
    "    while (pivot_index != left_index):\n",
    "\n",
    "        item = items[left_index]\n",
    "        print (f\"eins   {item}\")\n",
    "\n",
    "        if item <= pivot_value:\n",
    "            left_index += 1\n",
    "            continue\n",
    "        # put left index auf platz von pivot\n",
    "        items[left_index] = items[pivot_index - 1]\n",
    "        \n",
    "        # vorletzer platz hat den wert von pivot\n",
    "        items[pivot_index - 1] = pivot_value\n",
    "        \n",
    "        #pivot platz ist jetz der wert von item(wert von left index)\n",
    "        items[pivot_index] = item\n",
    "        print (f\"zwei {item}\")\n",
    "        pivot_index -= 1\n",
    "        \n",
    "items = [8, 3, 1, 7, 0, 10, 2]\n",
    "sort_a_little_bit(items)\n",
    "print(items)"
   ]
  },
  {
   "cell_type": "code",
   "execution_count": null,
   "metadata": {},
   "outputs": [],
   "source": []
  }
 ],
 "metadata": {
  "kernelspec": {
   "display_name": "Python 3",
   "language": "python",
   "name": "python3"
  },
  "language_info": {
   "codemirror_mode": {
    "name": "ipython",
    "version": 3
   },
   "file_extension": ".py",
   "mimetype": "text/x-python",
   "name": "python",
   "nbconvert_exporter": "python",
   "pygments_lexer": "ipython3",
   "version": "3.7.0"
  }
 },
 "nbformat": 4,
 "nbformat_minor": 2
}
