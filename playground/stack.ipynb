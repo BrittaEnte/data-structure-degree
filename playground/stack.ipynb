{
 "cells": [
  {
   "cell_type": "markdown",
   "metadata": {},
   "source": [
    "implement a stack using an array"
   ]
  },
  {
   "cell_type": "markdown",
   "metadata": {},
   "source": [
    "create and initialize a stack with 10 items = 0\n",
    "create a next index attribute and a numelements attribut"
   ]
  },
  {
   "cell_type": "code",
   "execution_count": 6,
   "metadata": {},
   "outputs": [
    {
     "name": "stdout",
     "output_type": "stream",
     "text": [
      "[0, 0, 0, 0, 0, 0, 0, 0, 0, 0]\n",
      "Pass\n"
     ]
    }
   ],
   "source": [
    "class Stack:\n",
    "    def __init__(self, size=10):\n",
    "        self.arr = [0 for _ in range(size)]\n",
    "        self.next_item= 0\n",
    "        self.num_elements=0\n",
    "        \n",
    "druck = Stack()\n",
    "print(druck.arr)\n",
    "print (\"Pass\" if druck.arr ==[0,0,0,0,0,0,0,0,0,0] else \"fail\")\n"
   ]
  },
  {
   "cell_type": "markdown",
   "metadata": {},
   "source": [
    "add a push method and try it out    "
   ]
  },
  {
   "cell_type": "code",
   "execution_count": 17,
   "metadata": {},
   "outputs": [
    {
     "name": "stdout",
     "output_type": "stream",
     "text": [
      "[0, 0, 0, 0, 0, 0, 0, 0, 0, 0]\n",
      "['ente', 0, 0, 0, 0, 0, 0, 0, 0, 0]\n"
     ]
    }
   ],
   "source": [
    "class Stack:\n",
    "    def __init__(self, size=10):\n",
    "        self.arr = [0 for _ in range(size)]\n",
    "        self.next_index= 0\n",
    "        self.num_elements=0\n",
    "        \n",
    "    def push(self, data):\n",
    "        self.arr[self.next_index] = data\n",
    "        self.next_index +=1\n",
    "        self.num_elements +=1\n",
    "\n",
    "\n",
    "a = Stack()\n",
    "print(a.arr) \n",
    "a.push(\"ente\")\n",
    "print(a.arr)        "
   ]
  },
  {
   "cell_type": "markdown",
   "metadata": {},
   "source": [
    "define a handle_stack_capacity_full method. define an old_arr variable and assign it the current full array\n",
    "create a new lager array\n",
    "iterate over the values in the old array and copy it to the new one"
   ]
  },
  {
   "cell_type": "code",
   "execution_count": 25,
   "metadata": {},
   "outputs": [
    {
     "name": "stdout",
     "output_type": "stream",
     "text": [
      "[0, 0, 0, 0, 0]\n",
      "<bound method Stack.size of <__main__.Stack object at 0x000001D2D8F8D9E8>>\n"
     ]
    }
   ],
   "source": [
    "class Stack:\n",
    "    def __init__(self, size=5):\n",
    "        self.arr = [0 for _ in range(size)]\n",
    "        self.next_index= 0\n",
    "        self.num_elements=0\n",
    "        \n",
    "    def push(self, data):\n",
    "        if self.next_index == len(self.arr):\n",
    "            print(\"out of order\")\n",
    "            self._handle_stack_capacity_full()\n",
    "        self.arr[self.next_index] = data\n",
    "        self.next_index +=1\n",
    "        self.num_elements +=1\n",
    "        \n",
    "    def size(self):\n",
    "        return self.num_elements\n",
    "\n",
    "    def is_empty(self):\n",
    "        return self.num_elements == 0   \n",
    "            \n",
    "        \n",
    "    def _handle_stack_capacity_full(self):\n",
    "        old_arr = self.arr\n",
    "        self.arr = [0 for _ in range(2*len(old_arr))]\n",
    "        for index, value in enumerate(old_arr):\n",
    "            self.arr[index]= value \n",
    "            \n",
    "a = Stack()\n",
    "print(a.arr)   \n",
    "print(a.size)\n",
    "        "
   ]
  },
  {
   "cell_type": "code",
   "execution_count": null,
   "metadata": {},
   "outputs": [],
   "source": []
  }
 ],
 "metadata": {
  "kernelspec": {
   "display_name": "Python 3",
   "language": "python",
   "name": "python3"
  },
  "language_info": {
   "codemirror_mode": {
    "name": "ipython",
    "version": 3
   },
   "file_extension": ".py",
   "mimetype": "text/x-python",
   "name": "python",
   "nbconvert_exporter": "python",
   "pygments_lexer": "ipython3",
   "version": "3.7.0"
  }
 },
 "nbformat": 4,
 "nbformat_minor": 2
}
