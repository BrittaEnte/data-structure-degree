{
 "cells": [
  {
   "cell_type": "markdown",
   "metadata": {},
   "source": [
    "Problem Statement\n",
    "\n",
    "You have been given an array containg numbers. Find and return the largest sum in a contiguous subarray within the input array.\n",
    "\n",
    "Example 1:\n",
    "\n",
    "    arr= [1, 2, 3, -4, 6]\n",
    "    The largest sum is 8, which is the sum of all elements of the array.\n",
    "\n",
    "Example 2:\n",
    "\n",
    "    arr = [1, 2, -5, -4, 1, 6]\n",
    "    The largest sum is 7, which is the sum of the last two elements of the array.\n",
    "\n"
   ]
  },
  {
   "cell_type": "code",
   "execution_count": null,
   "metadata": {},
   "outputs": [],
   "source": [
    "# Solution\n",
    "def max_sum_subarray(arr):\n",
    "    max_sum = arr[0]\n",
    "    current_sum = arr[0]\n",
    "\n",
    "    for num in arr[1:]:\n",
    "        current_sum = max(current_sum + num, num)\n",
    "        max_sum = max(current_sum, max_sum)\n",
    "    return max_sum"
   ]
  }
 ],
 "metadata": {
  "kernelspec": {
   "display_name": "Python 3",
   "language": "python",
   "name": "python3"
  },
  "language_info": {
   "codemirror_mode": {
    "name": "ipython",
    "version": 3
   },
   "file_extension": ".py",
   "mimetype": "text/x-python",
   "name": "python",
   "nbconvert_exporter": "python",
   "pygments_lexer": "ipython3",
   "version": "3.7.3"
  }
 },
 "nbformat": 4,
 "nbformat_minor": 2
}
