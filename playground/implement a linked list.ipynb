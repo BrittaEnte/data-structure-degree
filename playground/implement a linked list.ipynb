{
 "cells": [
  {
   "cell_type": "markdown",
   "metadata": {},
   "source": [
    "\n",
    "    Create a Node class with value and next attributes\n",
    "    Use the class to create the head node with the value 2\n",
    "    Create and link a second node containing the value 1\n",
    "    Try printing the values (1 and 2) on the nodes you created (to make sure that you can access them!)\n"
   ]
  },
  {
   "cell_type": "code",
   "execution_count": 13,
   "metadata": {},
   "outputs": [
    {
     "name": "stdout",
     "output_type": "stream",
     "text": [
      "8\n",
      "10\n"
     ]
    }
   ],
   "source": [
    "class Node:\n",
    "     def __init__(self, value):\n",
    "            self.value = value\n",
    "            self.next = None\n",
    "            \n",
    "h=Node(8)\n",
    "print (h.value)\n",
    "\n",
    "h.next = Node(10)\n",
    "print (h.next.value)"
   ]
  },
  {
   "cell_type": "markdown",
   "metadata": {},
   "source": [
    "To do this, we need to create three more nodes, and we need to attach each one to the next attribute of the node that comes before it. Notice that we don't have a direct reference to any of the nodes other than the head node!\n",
    "See if you can write the code to finish creating the above list:\n",
    " Add three more nodes to the list, with the values 4, 3, and 5"
   ]
  },
  {
   "cell_type": "code",
   "execution_count": 14,
   "metadata": {},
   "outputs": [],
   "source": [
    "h.next.next = Node(4)\n",
    "h.next.next.next = Node(3)\n",
    "h.next.next.next.next = Node(5)"
   ]
  },
  {
   "cell_type": "code",
   "execution_count": 15,
   "metadata": {},
   "outputs": [
    {
     "name": "stdout",
     "output_type": "stream",
     "text": [
      "8\n",
      "10\n",
      "4\n",
      "3\n",
      "5\n"
     ]
    }
   ],
   "source": [
    "print(h.value)\n",
    "print(h.next.value)\n",
    "print(h.next.next.value)\n",
    "print(h.next.next.next.value)\n",
    "print(h.next.next.next.next.value)"
   ]
  },
  {
   "cell_type": "markdown",
   "metadata": {},
   "source": [
    "Traversing the list\n",
    "OK, great! We successfully created a simple linked list. But printing all the values like we did above was pretty tedious. What if we had a list with 1,000 nodes?\n",
    "Let's see how we might traverse the list and print all the values, no matter how long it might be.\n",
    "\n",
    "Once you've seen the walkthrough, give it a try for yourself:\n",
    "\n",
    "Write a function that loops through the nodes of the list and prints all of the values"
   ]
  },
  {
   "cell_type": "code",
   "execution_count": null,
   "metadata": {},
   "outputs": [],
   "source": [
    "def print_linked_list(head):\n",
    "    current_node = head\n",
    "    \n",
    "    while current_node is not None:\n",
    "        print(current_node.value)\n",
    "        current_node = current_node.next\n",
    "        \n",
    "print_linked_list(head)"
   ]
  },
  {
   "cell_type": "markdown",
   "metadata": {},
   "source": [
    "Previously, we created a linked list using a very manual and tedious method. We called next multiple times on our head node.\n",
    "\n",
    "Now that we know about iterating over or traversing the linked list, is there a way we can use that to create a linked list?\n",
    "\n",
    "We've provided our solution below—but it might be a good exercise to see what you can come up with first. Here's the goal:\n",
    "\n",
    "See if you can write the code for the create_linked_list function below\n",
    "The function should take a Python list of values as input and return the head of a linked list that has those values\n"
   ]
  },
  {
   "cell_type": "code",
   "execution_count": null,
   "metadata": {},
   "outputs": [],
   "source": [
    "def create_linked_list(input_list):\n",
    "    head = None\n",
    "    for value in input_list:\n",
    "        if head is None:\n",
    "            head = Node(value)    \n",
    "        else:\n",
    "        # Move to the tail (the last node)\n",
    "            current_node = head\n",
    "            while current_node.next:\n",
    "                current_node = current_node.next\n",
    "        \n",
    "            current_node.next = Node(value)\n",
    "    return head"
   ]
  },
  {
   "cell_type": "markdown",
   "metadata": {},
   "source": [
    "a better solution "
   ]
  },
  {
   "cell_type": "code",
   "execution_count": null,
   "metadata": {},
   "outputs": [],
   "source": [
    "def create_linked_list_better(input_list):\n",
    "    \n",
    "    head = None\n",
    "    tail = None\n",
    "    \n",
    "    for value in input_list:\n",
    "        \n",
    "        if head is None:\n",
    "            head = Node(value)\n",
    "            tail = head # when we only have 1 node, head and tail refer to the same node\n",
    "        else:\n",
    "            tail.next = Node(value) # attach the new node to the `next` of tail\n",
    "            tail = tail.next # update the tail\n",
    "            \n",
    "    return head"
   ]
  }
 ],
 "metadata": {
  "kernelspec": {
   "display_name": "Python 3",
   "language": "python",
   "name": "python3"
  },
  "language_info": {
   "codemirror_mode": {
    "name": "ipython",
    "version": 3
   },
   "file_extension": ".py",
   "mimetype": "text/x-python",
   "name": "python",
   "nbconvert_exporter": "python",
   "pygments_lexer": "ipython3",
   "version": "3.7.0"
  }
 },
 "nbformat": 4,
 "nbformat_minor": 2
}
