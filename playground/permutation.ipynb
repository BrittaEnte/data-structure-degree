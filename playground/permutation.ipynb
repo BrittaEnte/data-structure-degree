{
 "cells": [
  {
   "cell_type": "code",
   "execution_count": null,
   "metadata": {},
   "outputs": [],
   "source": [
    "# Code\n",
    "import copy\n",
    "def permute(l):\n",
    "    \"\"\"\n",
    "    Return a list of permutations    \n",
    "    Examples:\n",
    "       permute([0, 1]) returns [ [0, 1], [1, 0] ]    \n",
    "    Args:\n",
    "      l(list): list of items to be permuted    \n",
    "    Returns:\n",
    "      list of permutation with each permuted item being represented by a list\n",
    "    \"\"\"\n",
    "    pass"
   ]
  },
  {
   "cell_type": "code",
   "execution_count": 1,
   "metadata": {},
   "outputs": [
    {
     "name": "stdout",
     "output_type": "stream",
     "text": [
      "Pass\n",
      "Pass\n",
      "Pass\n",
      "Pass\n"
     ]
    }
   ],
   "source": [
    "# Solution \n",
    "import copy\n",
    "def permute(l):\n",
    "    \"\"\"\n",
    "    Return a list of permutations\n",
    "    Examples:\n",
    "       permute([0, 1]) returns [ [0, 1], [1, 0] ]\n",
    "    Args:\n",
    "      l(list): list of items to be permuted\n",
    "    Returns:\n",
    "      list of permutation with each permuted item be represented by a list\n",
    "    \"\"\"\n",
    "    perm = []\n",
    "    if len(l) == 0:\n",
    "        perm.append([])\n",
    "    else:\n",
    "        first_element = l[0]\n",
    "        after_first = slice(1, None)\n",
    "        sub_permutes = permute(l[after_first])\n",
    "        for p in sub_permutes:\n",
    "            for j in range(0, len(p) + 1):\n",
    "                r = copy.deepcopy(p)\n",
    "                r.insert(j, first_element)\n",
    "                perm.append(r)\n",
    "    return perm\n",
    "\n",
    "def check_output(output, expected_output):\n",
    "    \"\"\"\n",
    "    Return True if output and expected_output\n",
    "    contains the same lists, False otherwise.    \n",
    "    Note that the ordering of the list is not important.    \n",
    "    Examples:\n",
    "        check_output([ [0, 1], [1, 0] ] ], [ [1, 0], [0, 1] ]) returns True\n",
    "    Args:\n",
    "        output(list): list of list\n",
    "        expected_output(list): list of list    \n",
    "    Returns:\n",
    "        bool\n",
    "    \"\"\"\n",
    "    o = copy.deepcopy(output)  # so that we don't mutate input\n",
    "    e = copy.deepcopy(expected_output)  # so that we don't mutate input\n",
    "    \n",
    "    o.sort()\n",
    "    e.sort()\n",
    "    return o == e\n",
    "\n",
    "print (\"Pass\" if  (check_output(permute([]), [[]])) else \"Fail\")\n",
    "print (\"Pass\" if  (check_output(permute([0]), [[0]])) else \"Fail\")\n",
    "print (\"Pass\" if  (check_output(permute([0, 1]), [[0, 1], [1, 0]])) else \"Fail\")\n",
    "print (\"Pass\" if  (check_output(permute([0, 1, 2]), [[0, 1, 2], [0, 2, 1], [1, 0, 2], [1, 2, 0], [2, 0, 1], [2, 1, 0]])) else \"Fail\")"
   ]
  },
  {
   "cell_type": "code",
   "execution_count": null,
   "metadata": {},
   "outputs": [],
   "source": []
  }
 ],
 "metadata": {
  "kernelspec": {
   "display_name": "Python 3",
   "language": "python",
   "name": "python3"
  },
  "language_info": {
   "codemirror_mode": {
    "name": "ipython",
    "version": 3
   },
   "file_extension": ".py",
   "mimetype": "text/x-python",
   "name": "python",
   "nbconvert_exporter": "python",
   "pygments_lexer": "ipython3",
   "version": "3.7.0"
  }
 },
 "nbformat": 4,
 "nbformat_minor": 2
}
