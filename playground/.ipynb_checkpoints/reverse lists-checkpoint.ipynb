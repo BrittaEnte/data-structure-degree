{
 "cells": [
  {
   "cell_type": "markdown",
   "metadata": {},
   "source": [
    "Python list | reverse()\n",
    "reverse() is an inbuilt method in Python programming language that reverses objects of list in place."
   ]
  },
  {
   "cell_type": "code",
   "execution_count": null,
   "metadata": {},
   "outputs": [],
   "source": [
    "# Python3 program to demonstrate the  \n",
    "# use of reverse method  \n",
    "\n",
    "# reverse a list of numbers \n",
    "   \n",
    "# a list of numbers \n",
    "list1 = [1, 2, 3, 4, 1, 2, 6]  \n",
    "list1.reverse()  \n",
    "print(list1)  \n",
    "  \n",
    "# a list of characters \n",
    "list2 = ['a', 'b', 'c', 'd', 'a', 'a']  \n",
    "list2.reverse()  \n",
    "print(list2)  \n",
    "\n"
   ]
  },
  {
   "cell_type": "code",
   "execution_count": null,
   "metadata": {},
   "outputs": [],
   "source": [
    "# Python3 program to demonstrate the  \n",
    "# error in reverse() method \n",
    "   \n",
    "# error when string is used in place of list \n",
    "string = \"abgedge\" \n",
    "string.reverse()  \n",
    "print(string) "
   ]
  },
  {
   "cell_type": "markdown",
   "metadata": {},
   "source": [
    "palindrome for list\n",
    "Practical Application: \n",
    "Given a list of numbers, check if the list is palindrome.\n",
    "Note: palindrome-sequence that reads the same backwards as forwards"
   ]
  },
  {
   "cell_type": "code",
   "execution_count": null,
   "metadata": {},
   "outputs": [],
   "source": [
    "# Python3 program for the \n",
    "# practical application of reverse() \n",
    "\n",
    "list1 = [1, 2, 3, 2, 1] \n",
    "\n",
    "# store a copy of list \n",
    "list2 = list1.copy() \n",
    "\n",
    "# reverse the list \n",
    "list2.reverse() \n",
    "\n",
    "# compare reversed and original list \n",
    "if list1 == list2: \n",
    "\tprint(\"Palindrome\") \n",
    "else: \n",
    "\tprint(\"Not Palindrome\") \n"
   ]
  }
 ],
 "metadata": {
  "kernelspec": {
   "display_name": "Python 3",
   "language": "python",
   "name": "python3"
  },
  "language_info": {
   "codemirror_mode": {
    "name": "ipython",
    "version": 3
   },
   "file_extension": ".py",
   "mimetype": "text/x-python",
   "name": "python",
   "nbconvert_exporter": "python",
   "pygments_lexer": "ipython3",
   "version": "3.7.0"
  }
 },
 "nbformat": 4,
 "nbformat_minor": 2
}
