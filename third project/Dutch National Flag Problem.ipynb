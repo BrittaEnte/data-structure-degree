{
 "cells": [
  {
   "cell_type": "code",
   "execution_count": null,
   "metadata": {},
   "outputs": [],
   "source": [
    "Dutch National Flag Problem"
   ]
  },
  {
   "cell_type": "markdown",
   "metadata": {},
   "source": [
    "Given an input array consisting on only 0, 1, and 2, sort the array in a single traversal. You're not allowed to use any sorting function that Python provides.\n",
    "\n",
    "Note: O(n) does not necessarily mean single-traversal. For e.g. if you traverse the array twice, that would still be an O(n) solution but it will not count as single traversal.\n",
    "\n",
    "Here is some boilerplate code and test cases to start with:"
   ]
  },
  {
   "cell_type": "code",
   "execution_count": 4,
   "metadata": {},
   "outputs": [
    {
     "name": "stdout",
     "output_type": "stream",
     "text": [
      "[0, 0, 0, 1, 1, 1, 2, 2, 2, 2, 2]\n",
      "Pass\n",
      "[0, 0, 0, 0, 0, 0, 0, 0, 0, 0, 0, 1, 1, 1, 1, 1, 1, 2, 2, 2, 2, 2, 2, 2, 2, 2]\n",
      "Pass\n",
      "[0, 0, 0, 0, 0, 0, 1, 1, 1, 1, 1, 1, 2, 2, 2, 2, 2, 2, 2]\n",
      "Pass\n"
     ]
    }
   ],
   "source": [
    "#http://users.monash.edu/~lloyd/tildeAlgDS/Sort/Flag/\n",
    "#https://www.geeksforgeeks.org/python-list-insert/\n",
    "# we use list.insert, this method needs two parameters, the index and the new data.\n",
    "# the index is the smart part. all zero will go to the beginning and all 1 will to the end of\n",
    "#index. the figure 2 will be appended, means it will go to the end. \n",
    "\n",
    "def sort_012(input_list):\n",
    "    sortierte_liste = []\n",
    "    i = 0\n",
    "    for nummer in input_list:\n",
    "        if nummer == 0:\n",
    "            sortierte_liste.insert(0, nummer)\n",
    "            i += 1\n",
    "        elif nummer == 1:\n",
    "            sortierte_liste.insert(i, nummer)\n",
    "        elif nummer == 2:\n",
    "            sortierte_liste.append(nummer)\n",
    "    return sortierte_liste\n",
    "\n",
    "def test_function(test_case):\n",
    "    sorted_array = sort_012(test_case)\n",
    "    print(sorted_array)\n",
    "    if sorted_array == sorted(test_case):\n",
    "        print(\"Pass\")\n",
    "    else:\n",
    "        print(\"Fail\")\n",
    "\n",
    "test_function([0, 0, 2, 2, 2, 1, 1, 1, 2, 0, 2])\n",
    "test_function([2, 1, 2, 0, 0, 2, 1, 0, 1, 0, 0, 2, 2, 2, 1, 2, 0, 0, 0, 2, 1, 0, 2, 0, 0, 1])\n",
    "test_function([0, 0, 0, 0, 0, 0, 1, 1, 1, 1, 1, 1, 2, 2, 2, 2, 2, 2, 2])"
   ]
  },
  {
   "cell_type": "code",
   "execution_count": null,
   "metadata": {},
   "outputs": [],
   "source": []
  },
  {
   "cell_type": "code",
   "execution_count": null,
   "metadata": {},
   "outputs": [],
   "source": []
  }
 ],
 "metadata": {
  "kernelspec": {
   "display_name": "Python 3",
   "language": "python",
   "name": "python3"
  },
  "language_info": {
   "codemirror_mode": {
    "name": "ipython",
    "version": 3
   },
   "file_extension": ".py",
   "mimetype": "text/x-python",
   "name": "python",
   "nbconvert_exporter": "python",
   "pygments_lexer": "ipython3",
   "version": "3.7.3"
  }
 },
 "nbformat": 4,
 "nbformat_minor": 2
}
