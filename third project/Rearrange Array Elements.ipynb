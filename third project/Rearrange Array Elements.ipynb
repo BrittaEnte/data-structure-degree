{
 "cells": [
  {
   "cell_type": "code",
   "execution_count": null,
   "metadata": {},
   "outputs": [],
   "source": [
    "Rearrange Array Elements"
   ]
  },
  {
   "cell_type": "markdown",
   "metadata": {},
   "source": [
    "Rearrange Array Elements so as to form two number such that their sum is maximum. Return these two numbers. You can assume that all array elements are in the range [0, 9]. The number of digits in both the numbers cannot differ by more than 1. You're not allowed to use any sorting function that Python provides and the expected time complexity is O(nlog(n)).\n",
    "\n",
    "for e.g. [1, 2, 3, 4, 5]\n",
    "\n",
    "The expected answer would be [531, 42]. Another expected answer can be [542, 31]. In scenarios such as these when there are more than one possible answers, return any one.\n",
    "\n",
    "Here is some boilerplate code and test cases to start with:"
   ]
  },
  {
   "cell_type": "code",
   "execution_count": 1,
   "metadata": {},
   "outputs": [
    {
     "data": {
      "text/plain": [
       "[531, 42]"
      ]
     },
     "execution_count": 1,
     "metadata": {},
     "output_type": "execute_result"
    }
   ],
   "source": [
    "def rearrange_digits_udacity_solution(input_list):\n",
    "    num1 = 0\n",
    "    num2 = 0\n",
    "\n",
    "    digit_place = 1  # ones, tens, hundreds etc. places\n",
    "    flag = 1  # 1 for num1, 2 for num2\n",
    "\n",
    "    for digit in range(10):\n",
    "        for num in input_list:\n",
    "            if num == digit:\n",
    "                if flag == 1:\n",
    "                    num1 += digit * digit_place\n",
    "                    flag = 2\n",
    "                else:\n",
    "                    num2 += digit * digit_place\n",
    "                    flag = 1\n",
    "\n",
    "                    # change digit place (like, tens to hundreds)\n",
    "                    digit_place = 10 * digit_place\n",
    "\n",
    "    return [num1, num2]\n",
    "\n",
    "input_list= [1, 2, 3, 4, 5]\n",
    "rearrange_digits_udacity_solution(input_list)\n",
    "\n",
    "\n",
    "\n"
   ]
  },
  {
   "cell_type": "code",
   "execution_count": 2,
   "metadata": {},
   "outputs": [
    {
     "name": "stdout",
     "output_type": "stream",
     "text": [
      "Pass\n",
      "[964, 852]\n",
      "[2, 1]\n",
      "[42]\n",
      "None\n",
      "[971, 82]\n",
      "[862, 741]\n"
     ]
    }
   ],
   "source": [
    "def rearrange_digits(input_list):\n",
    "    \"\"\"\n",
    "    Rearrange Array Elements so as to form two number such that their sum is maximum.\n",
    "    Args:\n",
    "       input_list(list): Input List\n",
    "    Returns:\n",
    "       (int),(int): Two maximum sums\n",
    "    \"\"\"\n",
    "    if input_list is None:\n",
    "        return None\n",
    "\n",
    "    if len(input_list) <= 1:\n",
    "        return input_list\n",
    "\n",
    "    items = reverse_mergesort(input_list)\n",
    "    list1 = list()\n",
    "    list2 = list()\n",
    "\n",
    "    for item in items:\n",
    "        if len(list1) > len(list2):\n",
    "            list2.append(str(item))\n",
    "        else:\n",
    "            list1.append(str(item))\n",
    "\n",
    "    return [int(\"\".join(list1)), int(\"\".join(list2))]\n",
    "\n",
    "\n",
    "def reverse_mergesort(items):\n",
    "    if len(items) <= 1:\n",
    "        return items\n",
    "\n",
    "    index = len(items) // 2\n",
    "    left = items[:index]\n",
    "    right = items[index:]\n",
    "\n",
    "    left = reverse_mergesort(left)\n",
    "    right = reverse_mergesort(right)\n",
    "\n",
    "    return merge(left, right)\n",
    "\n",
    "\n",
    "def merge(left, right):\n",
    "    merged = []\n",
    "    left_index = 0\n",
    "    right_index = 0\n",
    "\n",
    "    while left_index < len(left) and right_index < len(right):\n",
    "        if left[left_index] < right[right_index]:\n",
    "            merged.append(right[right_index])\n",
    "            right_index += 1\n",
    "        else:\n",
    "            merged.append(left[left_index])\n",
    "            left_index += 1\n",
    "\n",
    "    merged += left[left_index:]\n",
    "    merged += right[right_index:]\n",
    "    return merged\n",
    "\n",
    "\n",
    "def test_function(test_case):\n",
    "    output = rearrange_digits(test_case[0])\n",
    "    solution = test_case[1]\n",
    "    if sum(output) == sum(solution):\n",
    "        print(\"Pass\")\n",
    "    else:\n",
    "        print(\"Fail\")\n",
    "\n",
    "\n",
    "test_function([[1, 2, 3, 4, 5], [542, 31]])\n",
    "\n",
    "print(rearrange_digits([4, 6, 2, 5, 9, 8]))  # [964, 852]]\n",
    "print(rearrange_digits([2, 1]))  # [2, 1]\n",
    "print(rearrange_digits([42]))  # [42]\n",
    "print(rearrange_digits(None))  # None\n",
    "print(rearrange_digits([2, 1, 9, 7, 8]))  # [971, 82]\n",
    "print(rearrange_digits([8, 7, 6, 4, 2, 1]))  # [862, 741]"
   ]
  },
  {
   "cell_type": "code",
   "execution_count": null,
   "metadata": {},
   "outputs": [],
   "source": []
  }
 ],
 "metadata": {
  "kernelspec": {
   "display_name": "Python 3",
   "language": "python",
   "name": "python3"
  },
  "language_info": {
   "codemirror_mode": {
    "name": "ipython",
    "version": 3
   },
   "file_extension": ".py",
   "mimetype": "text/x-python",
   "name": "python",
   "nbconvert_exporter": "python",
   "pygments_lexer": "ipython3",
   "version": "3.7.0"
  }
 },
 "nbformat": 4,
 "nbformat_minor": 2
}
