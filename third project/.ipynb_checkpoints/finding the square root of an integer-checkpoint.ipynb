{
 "cells": [
  {
   "cell_type": "markdown",
   "metadata": {},
   "source": [
    "finding the square root of an integer"
   ]
  },
  {
   "cell_type": "code",
   "execution_count": null,
   "metadata": {},
   "outputs": [],
   "source": [
    "import sys\n",
    " \n",
    "def sqrt(n):\n",
    "    start = 0\n",
    "    end = n\n",
    "    m = 0\n",
    "    min_range = 0.0000000001;\n",
    "     \n",
    "    while end - start > min_range:\n",
    "        m = (start + end) / 2.0;\n",
    "        pow2 = m * m\n",
    "        if abs(pow2 - n) <= min_range:\n",
    "            return m\n",
    "        elif pow2 < n:\n",
    "            start = m\n",
    "        else:\n",
    "            end = m\n",
    "             \n",
    "    return m\n",
    "\n",
    "print (\"Pass\" if  (3 == sqrt(9)) else \"Fail\")\n",
    "print (\"Pass\" if  (0 == sqrt(0)) else \"Fail\")\n",
    "print (\"Pass\" if  (4 == sqrt(16)) else \"Fail\")\n",
    "print (\"Pass\" if  (0 == sqrt(0)) else \"Fail\")\n",
    "print (\"Pass\" if  (5 == sqrt(27)) else \"Fail\")\n"
   ]
  },
  {
   "cell_type": "code",
   "execution_count": null,
   "metadata": {},
   "outputs": [],
   "source": []
  },
  {
   "cell_type": "code",
   "execution_count": null,
   "metadata": {},
   "outputs": [],
   "source": [
    "\n",
    "\n"
   ]
  },
  {
   "cell_type": "code",
   "execution_count": null,
   "metadata": {},
   "outputs": [],
   "source": []
  }
 ],
 "metadata": {
  "kernelspec": {
   "display_name": "Python 3",
   "language": "python",
   "name": "python3"
  },
  "language_info": {
   "codemirror_mode": {
    "name": "ipython",
    "version": 3
   },
   "file_extension": ".py",
   "mimetype": "text/x-python",
   "name": "python",
   "nbconvert_exporter": "python",
   "pygments_lexer": "ipython3",
   "version": "3.7.0"
  }
 },
 "nbformat": 4,
 "nbformat_minor": 2
}
