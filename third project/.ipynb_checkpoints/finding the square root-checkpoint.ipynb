{
 "cells": [
  {
   "cell_type": "markdown",
   "metadata": {},
   "source": [
    "Finding the Square Root of an Integer\n",
    "\n",
    "Find the square root of the integer without using any Python library. You have to find the floor value of the square root."
   ]
  },
  {
   "cell_type": "code",
   "execution_count": 11,
   "metadata": {},
   "outputs": [],
   "source": [
    "def sqrt(number):\n",
    "    start = 0\n",
    "    end = number\n",
    "    middle = 0\n",
    "    min_range = 0.0000000001;\n",
    "    \n",
    "    if number < 0:\n",
    "        print ( \"there is no real square root\")\n",
    "        \n",
    "    if number == 1:\n",
    "        print (1)\n",
    "        \n",
    "    if number == 2:\n",
    "        print (2)\n",
    "        \n",
    "    \n",
    "    #we will use a binary search for this problem. we take the middle and check if this is \n",
    "    # the square root. if not we got two cases. the middle number is bigger than needed\n",
    "    # or smaller than needed. \n",
    "    while end - start > min_range:\n",
    "        middle = (start + end) / 2.0;\n",
    "        pow2 = middle * middle\n",
    "        # we need abs in case the result is a minus figure.\n",
    "        #https://www.geeksforgeeks.org/abs-in-python/\n",
    "        if abs(pow2 - number) <= min_range:\n",
    "            return middle\n",
    "        # we found the square. \n",
    "        elif pow2 < number:\n",
    "            start = middle\n",
    "        else:\n",
    "            end = middle\n",
    "             \n",
    "    return int(middle)\n",
    "\n"
   ]
  },
  {
   "cell_type": "code",
   "execution_count": 12,
   "metadata": {},
   "outputs": [
    {
     "name": "stdout",
     "output_type": "stream",
     "text": [
      "Pass\n",
      "Pass\n",
      "Pass\n",
      "Pass\n",
      "Fail\n",
      "1\n",
      "Fail\n",
      "2\n",
      "Fail\n",
      "there is no real square root\n"
     ]
    },
    {
     "data": {
      "text/plain": [
       "0"
      ]
     },
     "execution_count": 12,
     "metadata": {},
     "output_type": "execute_result"
    }
   ],
   "source": [
    "print (\"Pass\" if  (3 == sqrt(9)) else \"Fail\")\n",
    "print (\"Pass\" if  (0 == sqrt(0)) else \"Fail\")\n",
    "print (\"Pass\" if  (4 == sqrt(16)) else \"Fail\")\n",
    "print (\"Pass\" if  (5 == sqrt(27)) else \"Fail\")\n",
    "print (\"Pass\" if  (-4 == sqrt(16)) else \"Fail\")\n",
    "# extra cases for the numbers 1 and 2\n",
    "print (\"Pass\" if  (1 == sqrt(1)) else \"Fail\")\n",
    "print (\"Pass\" if  (2 == sqrt(2)) else \"Fail\")\n",
    "\n",
    "# test for negative numbers \n",
    "sqrt(-4)\n"
   ]
  },
  {
   "cell_type": "code",
   "execution_count": null,
   "metadata": {},
   "outputs": [],
   "source": []
  }
 ],
 "metadata": {
  "kernelspec": {
   "display_name": "Python 3",
   "language": "python",
   "name": "python3"
  },
  "language_info": {
   "codemirror_mode": {
    "name": "ipython",
    "version": 3
   },
   "file_extension": ".py",
   "mimetype": "text/x-python",
   "name": "python",
   "nbconvert_exporter": "python",
   "pygments_lexer": "ipython3",
   "version": "3.7.0"
  }
 },
 "nbformat": 4,
 "nbformat_minor": 2
}
