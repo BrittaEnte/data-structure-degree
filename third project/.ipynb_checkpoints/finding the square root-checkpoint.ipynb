{
 "cells": [
  {
   "cell_type": "markdown",
   "metadata": {},
   "source": [
    "Finding the Square Root of an Integer\n",
    "Find the square root of the integer without using any Python library. You have to find the floor value of the square root."
   ]
  },
  {
   "cell_type": "code",
   "execution_count": 14,
   "metadata": {},
   "outputs": [],
   "source": [
    "def sqrt(number):\n",
    "    start = 0\n",
    "    end = number\n",
    "    middle = 0\n",
    "    min_range = 0.0000000001;\n",
    "    \n",
    "    #we will use a binary search for this problem. we take the middle and check if this is \n",
    "    # the square root. if not we got two cases. the middle number is bigger than needed\n",
    "    # or smaller than needed. \n",
    "    while end - start > min_range:\n",
    "        middle = (start + end) / 2.0;\n",
    "        pow2 = middle * middle\n",
    "        # we need abs in case the result is a minus figure.\n",
    "        #https://www.geeksforgeeks.org/abs-in-python/\n",
    "        if abs(pow2 - number) <= min_range:\n",
    "            return middle\n",
    "        # we found the square. \n",
    "        elif pow2 < number:\n",
    "            start = middle\n",
    "        else:\n",
    "            end = middle\n",
    "             \n",
    "    return int(middle)\n",
    "\n"
   ]
  },
  {
   "cell_type": "code",
   "execution_count": 15,
   "metadata": {},
   "outputs": [
    {
     "name": "stdout",
     "output_type": "stream",
     "text": [
      "Pass\n",
      "Pass\n",
      "Pass\n",
      "Pass\n"
     ]
    }
   ],
   "source": [
    "print (\"Pass\" if  (3 == sqrt(9)) else \"Fail\")\n",
    "print (\"Pass\" if  (0 == sqrt(0)) else \"Fail\")\n",
    "print (\"Pass\" if  (4 == sqrt(16)) else \"Fail\")\n",
    "print (\"Pass\" if  (5 == sqrt(27)) else \"Fail\")"
   ]
  }
 ],
 "metadata": {
  "kernelspec": {
   "display_name": "Python 3",
   "language": "python",
   "name": "python3"
  },
  "language_info": {
   "codemirror_mode": {
    "name": "ipython",
    "version": 3
   },
   "file_extension": ".py",
   "mimetype": "text/x-python",
   "name": "python",
   "nbconvert_exporter": "python",
   "pygments_lexer": "ipython3",
   "version": "3.7.0"
  }
 },
 "nbformat": 4,
 "nbformat_minor": 2
}
