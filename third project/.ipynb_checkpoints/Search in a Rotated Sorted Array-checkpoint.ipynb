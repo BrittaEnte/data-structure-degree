{
 "cells": [
  {
   "cell_type": "markdown",
   "metadata": {},
   "source": [
    "Search in a Rotated Sorted Array"
   ]
  },
  {
   "cell_type": "markdown",
   "metadata": {},
   "source": [
    "You are given a sorted array which is rotated at some random pivot point.\n",
    "Example: [0,1,2,4,5,6,7] might become [4,5,6,7,0,1,2]\n",
    "You are given a target value to search. If found in the array return its index, otherwise return -1.\n",
    "You can assume there are no duplicates in the array and your algorithm's runtime complexity must be in the order of O(log n).\n",
    "Example:\n",
    "Input: nums = [4,5,6,7,0,1,2], target = 0, Output: 4\n",
    "\n"
   ]
  },
  {
   "cell_type": "markdown",
   "metadata": {},
   "source": [
    "the pseudocode is:\n",
    "find the pivot in the list\n",
    "from this pivot divide the list into to subarrys.\n",
    "if right array is smaller than the pivot go to the left array. \n",
    "use binary search for this list search. big O( log n)\n"
   ]
  },
  {
   "cell_type": "code",
   "execution_count": 3,
   "metadata": {},
   "outputs": [
    {
     "name": "stdout",
     "output_type": "stream",
     "text": [
      "Index of the element is :  4\n"
     ]
    }
   ],
   "source": [
    "#https://www.geeksforgeeks.org/search-an-element-in-a-sorted-and-pivoted-array/\n",
    "#https://www.youtube.com/watch?v=uN5QUBHUQaM\n",
    "#https://stackoverflow.com/questions/55405236/search-in-rotated-sorted-array-in-olog-n-time\n",
    "#first we must search were the pivot is. afterwards we can use binary search.   \n",
    "# Function to get pivot. For array # 3, 4, 5, 6, 1, 2 it returns 3  # (index of 6)  \n",
    "\n",
    "def findPivot(arr, low, high):       \n",
    "   # if high less than low, we will stop\n",
    "    if high <= low: \n",
    "        return -1\n",
    "\n",
    "      \n",
    "    #low + (high - low)/2 will be the mid \n",
    "    mid = int((low + high)/2)       \n",
    "    if mid < high and arr[mid] > arr[mid + 1]: \n",
    "        return mid # this must be the pivot!\n",
    "    if mid > low and arr[mid] < arr[mid - 1]: \n",
    "        return (mid-1) \n",
    "    if arr[low] >= arr[mid]: \n",
    "        return findPivot(arr, low, mid-1) # we use recursion \n",
    "    return findPivot(arr, mid + 1, high) \n",
    "  \n",
    "#binary search function with recursion \n",
    "def binarySearch(arr, low, high, key):   \n",
    "    if high < low: \n",
    "        return -1\n",
    "          \n",
    "    #find the mid   \n",
    "    mid = int((low + high)/2) \n",
    "      \n",
    "    if key == arr[mid]: \n",
    "        return mid \n",
    "    if key > arr[mid]: \n",
    "        return binarySearch(arr, (mid + 1), high,key) \n",
    "    return binarySearch(arr, low, (mid -1), key)\n",
    "\n",
    "\n",
    "  \n",
    "def pivotedBinarySearch(arr, n, key): \n",
    "  \n",
    "    pivot = findPivot(arr, 0, n-1)\n",
    "  \n",
    "    # If we didn't find a pivot,  \n",
    "    # then array is not rotated at all \n",
    "    if pivot == -1: \n",
    "        return binarySearch(arr, 0, n-1, key)\n",
    "   # If we found a pivot, then first \n",
    "    # compare with pivot and then \n",
    "    # search in two subarrays around pivot \n",
    "    if arr[pivot] == key: \n",
    "        return pivot \n",
    "    if arr[0] <= key: \n",
    "        return binarySearch(arr, 0, pivot-1, key)\n",
    "    return binarySearch(arr, pivot+1, n-1, key)   \n",
    "\n",
    "  \n",
    "# Driver program to check above functions */ \n",
    "# Let us search 3 in below array \n",
    "arr1 = [5, 6, 7, 8, 9, 10, 1, 2, 3] \n",
    "n = len(arr1) \n",
    "key = 9\n",
    "print(\"Index of the element is : \",  \n",
    "      pivotedBinarySearch(arr1, n, key)) \n",
    "        "
   ]
  }
 ],
 "metadata": {
  "kernelspec": {
   "display_name": "Python 3",
   "language": "python",
   "name": "python3"
  },
  "language_info": {
   "codemirror_mode": {
    "name": "ipython",
    "version": 3
   },
   "file_extension": ".py",
   "mimetype": "text/x-python",
   "name": "python",
   "nbconvert_exporter": "python",
   "pygments_lexer": "ipython3",
   "version": "3.7.0"
  }
 },
 "nbformat": 4,
 "nbformat_minor": 2
}
