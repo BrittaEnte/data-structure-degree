{
 "cells": [
  {
   "cell_type": "code",
   "execution_count": null,
   "metadata": {},
   "outputs": [],
   "source": [
    "Rearrange Array Elements"
   ]
  },
  {
   "cell_type": "markdown",
   "metadata": {},
   "source": [
    "Rearrange Array Elements so as to form two number such that their sum is maximum. Return these two numbers. You can assume that all array elements are in the range [0, 9]. The number of digits in both the numbers cannot differ by more than 1. You're not allowed to use any sorting function that Python provides and the expected time complexity is O(nlog(n)).\n",
    "\n",
    "for e.g. [1, 2, 3, 4, 5]\n",
    "\n",
    "The expected answer would be [531, 42]. Another expected answer can be [542, 31]. In scenarios such as these when there are more than one possible answers, return any one.\n",
    "\n",
    "Here is some boilerplate code and test cases to start with:"
   ]
  },
  {
   "cell_type": "code",
   "execution_count": 11,
   "metadata": {},
   "outputs": [
    {
     "name": "stdout",
     "output_type": "stream",
     "text": [
      "ergebnis für mergesort[5, 4, 3, 2, 1]\n",
      "Pass\n",
      "Pass\n"
     ]
    }
   ],
   "source": [
    "# first we use mergesort. i just copied this mergesort and merge function from the udacity template.\n",
    "# we use merge because it got a n log(n) complexity. \n",
    "\n",
    "def mergesort(items):\n",
    "    if len(items) <= 1:\n",
    "        return items\n",
    "\n",
    "    mid = len(items) // 2\n",
    "    left = items[:mid]\n",
    "    right = items[mid:]\n",
    "\n",
    "    left = mergesort(left)\n",
    "    right = mergesort(right)\n",
    "\n",
    "    return merge(left, right)\n",
    "\n",
    "print (f\"ergebnis für mergesort{mergesort([5, 2, 3, 4, 1])}\")\n",
    "\n",
    "def merge(left, right):\n",
    "    merged = []\n",
    "    left_index = 0\n",
    "    right_index = 0\n",
    "\n",
    "    while left_index < len(left) and right_index < len(right):\n",
    "        if left[left_index] < right[right_index]:\n",
    "            merged.append(right[right_index])\n",
    "            right_index += 1\n",
    "        else:\n",
    "            merged.append(left[left_index])\n",
    "            left_index += 1\n",
    "\n",
    "    merged += left[left_index:]\n",
    "    merged += right[right_index:]\n",
    "    return merged\n",
    "\n",
    "\n",
    "def rearrange_digits(input_list):\n",
    "#after the mergesort the biggest figures are at the beginning. so we can create two\n",
    "# other list. the bigest number will appear first for both list.\n",
    "\n",
    "    items = mergesort(input_list)\n",
    "    list1 = list()\n",
    "    list2 = list()\n",
    "\n",
    "    for item in items:\n",
    "        if len(list1) > len(list2):\n",
    "            list2.append(str(item))\n",
    "        else:\n",
    "            list1.append(str(item))\n",
    "\n",
    "    return [int(\"\".join(list1)), int(\"\".join(list2))]\n",
    "\n",
    "\n",
    "\n",
    "def test_function(test_case):\n",
    "    output = rearrange_digits(test_case[0])\n",
    "    solution = test_case[1]\n",
    "    if sum(output) == sum(solution):\n",
    "        print(\"Pass\")\n",
    "    else:\n",
    "        print(\"Fail\")\n",
    "\n",
    "\n",
    "test_function([[5, 2, 3, 4, 1], [542, 31]])\n",
    "\n",
    "test_function([[4, 6, 2, 5, 9, 8],[964, 852]]) \n"
   ]
  },
  {
   "cell_type": "code",
   "execution_count": null,
   "metadata": {},
   "outputs": [],
   "source": []
  }
 ],
 "metadata": {
  "kernelspec": {
   "display_name": "Python 3",
   "language": "python",
   "name": "python3"
  },
  "language_info": {
   "codemirror_mode": {
    "name": "ipython",
    "version": 3
   },
   "file_extension": ".py",
   "mimetype": "text/x-python",
   "name": "python",
   "nbconvert_exporter": "python",
   "pygments_lexer": "ipython3",
   "version": "3.7.0"
  }
 },
 "nbformat": 4,
 "nbformat_minor": 2
}
